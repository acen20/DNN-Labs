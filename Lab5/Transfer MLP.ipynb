{
 "cells": [
  {
   "cell_type": "code",
   "execution_count": 38,
   "metadata": {
    "id": "8ec7a96a"
   },
   "outputs": [],
   "source": [
    "import torch\n",
    "from torch import nn\n",
    "from torchvision import transforms\n",
    "from torch.utils.data import TensorDataset, DataLoader\n",
    "import matplotlib.pyplot as plt\n",
    "from sklearn.metrics import precision_recall_curve\n",
    "from matplotlib import pyplot\n",
    "from sklearn.metrics import f1_score\n",
    "from sklearn.metrics import ConfusionMatrixDisplay\n",
    "from sklearn.model_selection import cross_val_score\n",
    "import numpy as np\n",
    "from sklearn.preprocessing import LabelEncoder\n",
    "from sklearn.model_selection import train_test_split\n",
    "from sklearn.metrics import classification_report\n",
    "from sklearn.preprocessing import MinMaxScaler, StandardScaler"
   ]
  },
  {
   "cell_type": "code",
   "execution_count": 39,
   "metadata": {
    "id": "2c580674"
   },
   "outputs": [],
   "source": [
    "from warnings import simplefilter\n",
    "from sklearn.exceptions import ConvergenceWarning\n",
    "simplefilter(\"ignore\", category=ConvergenceWarning)"
   ]
  },
  {
   "cell_type": "code",
   "execution_count": 40,
   "metadata": {
    "id": "929c5c3c"
   },
   "outputs": [],
   "source": [
    "import pandas as pd # data processing, CSV file I/O (e.g. pd.read_csv)\n",
    "# Loading Dataset\n",
    "# Dataset link: https://data.mendeley.com/datasets/xvyv59vwvz/1\n",
    "# Dataset is present in the current directory containing the code file.\n",
    "df=pd.read_csv('../Datasets/ClaMP_Integrated-5184.csv')"
   ]
  },
  {
   "cell_type": "markdown",
   "metadata": {
    "id": "5b488c60"
   },
   "source": [
    "## Preprocessing"
   ]
  },
  {
   "cell_type": "code",
   "execution_count": 41,
   "metadata": {
    "colab": {
     "base_uri": "https://localhost:8080/",
     "height": 268
    },
    "id": "e919a469",
    "outputId": "5f1c531a-6c59-41b2-cfb6-c45a78b73c4f",
    "scrolled": true
   },
   "outputs": [
    {
     "data": {
      "text/html": [
       "<div>\n",
       "<style scoped>\n",
       "    .dataframe tbody tr th:only-of-type {\n",
       "        vertical-align: middle;\n",
       "    }\n",
       "\n",
       "    .dataframe tbody tr th {\n",
       "        vertical-align: top;\n",
       "    }\n",
       "\n",
       "    .dataframe thead th {\n",
       "        text-align: right;\n",
       "    }\n",
       "</style>\n",
       "<table border=\"1\" class=\"dataframe\">\n",
       "  <thead>\n",
       "    <tr style=\"text-align: right;\">\n",
       "      <th></th>\n",
       "      <th>e_cblp</th>\n",
       "      <th>e_cp</th>\n",
       "      <th>e_cparhdr</th>\n",
       "      <th>e_maxalloc</th>\n",
       "      <th>e_sp</th>\n",
       "      <th>e_lfanew</th>\n",
       "      <th>NumberOfSections</th>\n",
       "      <th>CreationYear</th>\n",
       "      <th>FH_char0</th>\n",
       "      <th>FH_char1</th>\n",
       "      <th>...</th>\n",
       "      <th>sus_sections</th>\n",
       "      <th>non_sus_sections</th>\n",
       "      <th>packer</th>\n",
       "      <th>packer_type</th>\n",
       "      <th>E_text</th>\n",
       "      <th>E_data</th>\n",
       "      <th>filesize</th>\n",
       "      <th>E_file</th>\n",
       "      <th>fileinfo</th>\n",
       "      <th>class</th>\n",
       "    </tr>\n",
       "  </thead>\n",
       "  <tbody>\n",
       "    <tr>\n",
       "      <th>0</th>\n",
       "      <td>144</td>\n",
       "      <td>3</td>\n",
       "      <td>4</td>\n",
       "      <td>65535</td>\n",
       "      <td>184</td>\n",
       "      <td>256</td>\n",
       "      <td>4</td>\n",
       "      <td>1</td>\n",
       "      <td>0</td>\n",
       "      <td>1</td>\n",
       "      <td>...</td>\n",
       "      <td>1</td>\n",
       "      <td>3</td>\n",
       "      <td>0</td>\n",
       "      <td>NoPacker</td>\n",
       "      <td>6.603616</td>\n",
       "      <td>5.443362</td>\n",
       "      <td>1181520</td>\n",
       "      <td>6.627552</td>\n",
       "      <td>1</td>\n",
       "      <td>0</td>\n",
       "    </tr>\n",
       "    <tr>\n",
       "      <th>1</th>\n",
       "      <td>144</td>\n",
       "      <td>3</td>\n",
       "      <td>4</td>\n",
       "      <td>65535</td>\n",
       "      <td>184</td>\n",
       "      <td>184</td>\n",
       "      <td>4</td>\n",
       "      <td>1</td>\n",
       "      <td>0</td>\n",
       "      <td>1</td>\n",
       "      <td>...</td>\n",
       "      <td>1</td>\n",
       "      <td>3</td>\n",
       "      <td>0</td>\n",
       "      <td>NoPacker</td>\n",
       "      <td>5.205926</td>\n",
       "      <td>2.123522</td>\n",
       "      <td>7680</td>\n",
       "      <td>5.318221</td>\n",
       "      <td>0</td>\n",
       "      <td>0</td>\n",
       "    </tr>\n",
       "    <tr>\n",
       "      <th>2</th>\n",
       "      <td>144</td>\n",
       "      <td>3</td>\n",
       "      <td>4</td>\n",
       "      <td>65535</td>\n",
       "      <td>184</td>\n",
       "      <td>272</td>\n",
       "      <td>5</td>\n",
       "      <td>1</td>\n",
       "      <td>0</td>\n",
       "      <td>1</td>\n",
       "      <td>...</td>\n",
       "      <td>1</td>\n",
       "      <td>4</td>\n",
       "      <td>0</td>\n",
       "      <td>NoPacker</td>\n",
       "      <td>6.238000</td>\n",
       "      <td>3.380859</td>\n",
       "      <td>57872</td>\n",
       "      <td>6.507758</td>\n",
       "      <td>1</td>\n",
       "      <td>0</td>\n",
       "    </tr>\n",
       "    <tr>\n",
       "      <th>3</th>\n",
       "      <td>144</td>\n",
       "      <td>3</td>\n",
       "      <td>4</td>\n",
       "      <td>65535</td>\n",
       "      <td>184</td>\n",
       "      <td>184</td>\n",
       "      <td>1</td>\n",
       "      <td>1</td>\n",
       "      <td>0</td>\n",
       "      <td>1</td>\n",
       "      <td>...</td>\n",
       "      <td>0</td>\n",
       "      <td>1</td>\n",
       "      <td>0</td>\n",
       "      <td>NoPacker</td>\n",
       "      <td>0.000000</td>\n",
       "      <td>0.000000</td>\n",
       "      <td>95616</td>\n",
       "      <td>4.575092</td>\n",
       "      <td>1</td>\n",
       "      <td>0</td>\n",
       "    </tr>\n",
       "    <tr>\n",
       "      <th>4</th>\n",
       "      <td>144</td>\n",
       "      <td>3</td>\n",
       "      <td>4</td>\n",
       "      <td>65535</td>\n",
       "      <td>184</td>\n",
       "      <td>224</td>\n",
       "      <td>5</td>\n",
       "      <td>1</td>\n",
       "      <td>0</td>\n",
       "      <td>1</td>\n",
       "      <td>...</td>\n",
       "      <td>1</td>\n",
       "      <td>4</td>\n",
       "      <td>0</td>\n",
       "      <td>NoPacker</td>\n",
       "      <td>6.355626</td>\n",
       "      <td>0.702621</td>\n",
       "      <td>48128</td>\n",
       "      <td>5.545531</td>\n",
       "      <td>1</td>\n",
       "      <td>0</td>\n",
       "    </tr>\n",
       "  </tbody>\n",
       "</table>\n",
       "<p>5 rows × 70 columns</p>\n",
       "</div>"
      ],
      "text/plain": [
       "   e_cblp  e_cp  e_cparhdr  e_maxalloc  e_sp  e_lfanew  NumberOfSections  \\\n",
       "0     144     3          4       65535   184       256                 4   \n",
       "1     144     3          4       65535   184       184                 4   \n",
       "2     144     3          4       65535   184       272                 5   \n",
       "3     144     3          4       65535   184       184                 1   \n",
       "4     144     3          4       65535   184       224                 5   \n",
       "\n",
       "   CreationYear  FH_char0  FH_char1  ...  sus_sections  non_sus_sections  \\\n",
       "0             1         0         1  ...             1                 3   \n",
       "1             1         0         1  ...             1                 3   \n",
       "2             1         0         1  ...             1                 4   \n",
       "3             1         0         1  ...             0                 1   \n",
       "4             1         0         1  ...             1                 4   \n",
       "\n",
       "   packer  packer_type    E_text    E_data  filesize    E_file  fileinfo  \\\n",
       "0       0     NoPacker  6.603616  5.443362   1181520  6.627552         1   \n",
       "1       0     NoPacker  5.205926  2.123522      7680  5.318221         0   \n",
       "2       0     NoPacker  6.238000  3.380859     57872  6.507758         1   \n",
       "3       0     NoPacker  0.000000  0.000000     95616  4.575092         1   \n",
       "4       0     NoPacker  6.355626  0.702621     48128  5.545531         1   \n",
       "\n",
       "   class  \n",
       "0      0  \n",
       "1      0  \n",
       "2      0  \n",
       "3      0  \n",
       "4      0  \n",
       "\n",
       "[5 rows x 70 columns]"
      ]
     },
     "execution_count": 41,
     "metadata": {},
     "output_type": "execute_result"
    }
   ],
   "source": [
    "df.head()"
   ]
  },
  {
   "cell_type": "code",
   "execution_count": 42,
   "metadata": {
    "id": "aa639012"
   },
   "outputs": [],
   "source": [
    "# Replacing Null values with 0. ML classifer cannot learn on Null values\n",
    "df.fillna(0, inplace=True)"
   ]
  },
  {
   "cell_type": "code",
   "execution_count": 43,
   "metadata": {
    "colab": {
     "base_uri": "https://localhost:8080/",
     "height": 268
    },
    "id": "740bf015",
    "outputId": "a145a0ee-451b-4218-a591-a7e7d1c0a3c8"
   },
   "outputs": [
    {
     "data": {
      "text/html": [
       "<div>\n",
       "<style scoped>\n",
       "    .dataframe tbody tr th:only-of-type {\n",
       "        vertical-align: middle;\n",
       "    }\n",
       "\n",
       "    .dataframe tbody tr th {\n",
       "        vertical-align: top;\n",
       "    }\n",
       "\n",
       "    .dataframe thead th {\n",
       "        text-align: right;\n",
       "    }\n",
       "</style>\n",
       "<table border=\"1\" class=\"dataframe\">\n",
       "  <thead>\n",
       "    <tr style=\"text-align: right;\">\n",
       "      <th></th>\n",
       "      <th>e_cblp</th>\n",
       "      <th>e_cp</th>\n",
       "      <th>e_cparhdr</th>\n",
       "      <th>e_maxalloc</th>\n",
       "      <th>e_sp</th>\n",
       "      <th>e_lfanew</th>\n",
       "      <th>NumberOfSections</th>\n",
       "      <th>CreationYear</th>\n",
       "      <th>FH_char0</th>\n",
       "      <th>FH_char1</th>\n",
       "      <th>...</th>\n",
       "      <th>sus_sections</th>\n",
       "      <th>non_sus_sections</th>\n",
       "      <th>packer</th>\n",
       "      <th>packer_type</th>\n",
       "      <th>E_text</th>\n",
       "      <th>E_data</th>\n",
       "      <th>filesize</th>\n",
       "      <th>E_file</th>\n",
       "      <th>fileinfo</th>\n",
       "      <th>class</th>\n",
       "    </tr>\n",
       "  </thead>\n",
       "  <tbody>\n",
       "    <tr>\n",
       "      <th>0</th>\n",
       "      <td>144</td>\n",
       "      <td>3</td>\n",
       "      <td>4</td>\n",
       "      <td>65535</td>\n",
       "      <td>184</td>\n",
       "      <td>256</td>\n",
       "      <td>4</td>\n",
       "      <td>1</td>\n",
       "      <td>0</td>\n",
       "      <td>1</td>\n",
       "      <td>...</td>\n",
       "      <td>1</td>\n",
       "      <td>3</td>\n",
       "      <td>0</td>\n",
       "      <td>NoPacker</td>\n",
       "      <td>6.603616</td>\n",
       "      <td>5.443362</td>\n",
       "      <td>1181520</td>\n",
       "      <td>6.627552</td>\n",
       "      <td>1</td>\n",
       "      <td>0</td>\n",
       "    </tr>\n",
       "    <tr>\n",
       "      <th>1</th>\n",
       "      <td>144</td>\n",
       "      <td>3</td>\n",
       "      <td>4</td>\n",
       "      <td>65535</td>\n",
       "      <td>184</td>\n",
       "      <td>184</td>\n",
       "      <td>4</td>\n",
       "      <td>1</td>\n",
       "      <td>0</td>\n",
       "      <td>1</td>\n",
       "      <td>...</td>\n",
       "      <td>1</td>\n",
       "      <td>3</td>\n",
       "      <td>0</td>\n",
       "      <td>NoPacker</td>\n",
       "      <td>5.205926</td>\n",
       "      <td>2.123522</td>\n",
       "      <td>7680</td>\n",
       "      <td>5.318221</td>\n",
       "      <td>0</td>\n",
       "      <td>0</td>\n",
       "    </tr>\n",
       "    <tr>\n",
       "      <th>2</th>\n",
       "      <td>144</td>\n",
       "      <td>3</td>\n",
       "      <td>4</td>\n",
       "      <td>65535</td>\n",
       "      <td>184</td>\n",
       "      <td>272</td>\n",
       "      <td>5</td>\n",
       "      <td>1</td>\n",
       "      <td>0</td>\n",
       "      <td>1</td>\n",
       "      <td>...</td>\n",
       "      <td>1</td>\n",
       "      <td>4</td>\n",
       "      <td>0</td>\n",
       "      <td>NoPacker</td>\n",
       "      <td>6.238000</td>\n",
       "      <td>3.380859</td>\n",
       "      <td>57872</td>\n",
       "      <td>6.507758</td>\n",
       "      <td>1</td>\n",
       "      <td>0</td>\n",
       "    </tr>\n",
       "    <tr>\n",
       "      <th>3</th>\n",
       "      <td>144</td>\n",
       "      <td>3</td>\n",
       "      <td>4</td>\n",
       "      <td>65535</td>\n",
       "      <td>184</td>\n",
       "      <td>184</td>\n",
       "      <td>1</td>\n",
       "      <td>1</td>\n",
       "      <td>0</td>\n",
       "      <td>1</td>\n",
       "      <td>...</td>\n",
       "      <td>0</td>\n",
       "      <td>1</td>\n",
       "      <td>0</td>\n",
       "      <td>NoPacker</td>\n",
       "      <td>0.000000</td>\n",
       "      <td>0.000000</td>\n",
       "      <td>95616</td>\n",
       "      <td>4.575092</td>\n",
       "      <td>1</td>\n",
       "      <td>0</td>\n",
       "    </tr>\n",
       "    <tr>\n",
       "      <th>4</th>\n",
       "      <td>144</td>\n",
       "      <td>3</td>\n",
       "      <td>4</td>\n",
       "      <td>65535</td>\n",
       "      <td>184</td>\n",
       "      <td>224</td>\n",
       "      <td>5</td>\n",
       "      <td>1</td>\n",
       "      <td>0</td>\n",
       "      <td>1</td>\n",
       "      <td>...</td>\n",
       "      <td>1</td>\n",
       "      <td>4</td>\n",
       "      <td>0</td>\n",
       "      <td>NoPacker</td>\n",
       "      <td>6.355626</td>\n",
       "      <td>0.702621</td>\n",
       "      <td>48128</td>\n",
       "      <td>5.545531</td>\n",
       "      <td>1</td>\n",
       "      <td>0</td>\n",
       "    </tr>\n",
       "  </tbody>\n",
       "</table>\n",
       "<p>5 rows × 70 columns</p>\n",
       "</div>"
      ],
      "text/plain": [
       "   e_cblp  e_cp  e_cparhdr  e_maxalloc  e_sp  e_lfanew  NumberOfSections  \\\n",
       "0     144     3          4       65535   184       256                 4   \n",
       "1     144     3          4       65535   184       184                 4   \n",
       "2     144     3          4       65535   184       272                 5   \n",
       "3     144     3          4       65535   184       184                 1   \n",
       "4     144     3          4       65535   184       224                 5   \n",
       "\n",
       "   CreationYear  FH_char0  FH_char1  ...  sus_sections  non_sus_sections  \\\n",
       "0             1         0         1  ...             1                 3   \n",
       "1             1         0         1  ...             1                 3   \n",
       "2             1         0         1  ...             1                 4   \n",
       "3             1         0         1  ...             0                 1   \n",
       "4             1         0         1  ...             1                 4   \n",
       "\n",
       "   packer  packer_type    E_text    E_data  filesize    E_file  fileinfo  \\\n",
       "0       0     NoPacker  6.603616  5.443362   1181520  6.627552         1   \n",
       "1       0     NoPacker  5.205926  2.123522      7680  5.318221         0   \n",
       "2       0     NoPacker  6.238000  3.380859     57872  6.507758         1   \n",
       "3       0     NoPacker  0.000000  0.000000     95616  4.575092         1   \n",
       "4       0     NoPacker  6.355626  0.702621     48128  5.545531         1   \n",
       "\n",
       "   class  \n",
       "0      0  \n",
       "1      0  \n",
       "2      0  \n",
       "3      0  \n",
       "4      0  \n",
       "\n",
       "[5 rows x 70 columns]"
      ]
     },
     "execution_count": 43,
     "metadata": {},
     "output_type": "execute_result"
    }
   ],
   "source": [
    "# Peak on dataset\n",
    "df.head()"
   ]
  },
  {
   "cell_type": "code",
   "execution_count": 44,
   "metadata": {
    "id": "f479e679"
   },
   "outputs": [],
   "source": [
    "# Droping these columns due to their insignificance\n",
    "df=df.drop(['NumberOfSections','CreationYear','e_cblp','e_cp','e_cparhdr','e_maxalloc'], axis=1)"
   ]
  },
  {
   "cell_type": "code",
   "execution_count": 45,
   "metadata": {
    "colab": {
     "base_uri": "https://localhost:8080/"
    },
    "id": "9ec1c0af",
    "outputId": "e0cfed80-c843-4e6b-e6b3-350fd1ad30eb"
   },
   "outputs": [
    {
     "data": {
      "text/plain": [
       "(5210, 64)"
      ]
     },
     "execution_count": 45,
     "metadata": {},
     "output_type": "execute_result"
    }
   ],
   "source": [
    "df.shape"
   ]
  },
  {
   "cell_type": "code",
   "execution_count": 46,
   "metadata": {
    "colab": {
     "base_uri": "https://localhost:8080/",
     "height": 268
    },
    "id": "bfbee834",
    "outputId": "35e7d969-8b9f-4840-e54f-871ea3ea574d"
   },
   "outputs": [
    {
     "data": {
      "text/html": [
       "<div>\n",
       "<style scoped>\n",
       "    .dataframe tbody tr th:only-of-type {\n",
       "        vertical-align: middle;\n",
       "    }\n",
       "\n",
       "    .dataframe tbody tr th {\n",
       "        vertical-align: top;\n",
       "    }\n",
       "\n",
       "    .dataframe thead th {\n",
       "        text-align: right;\n",
       "    }\n",
       "</style>\n",
       "<table border=\"1\" class=\"dataframe\">\n",
       "  <thead>\n",
       "    <tr style=\"text-align: right;\">\n",
       "      <th></th>\n",
       "      <th>e_sp</th>\n",
       "      <th>e_lfanew</th>\n",
       "      <th>FH_char0</th>\n",
       "      <th>FH_char1</th>\n",
       "      <th>FH_char2</th>\n",
       "      <th>FH_char3</th>\n",
       "      <th>FH_char4</th>\n",
       "      <th>FH_char5</th>\n",
       "      <th>FH_char6</th>\n",
       "      <th>FH_char7</th>\n",
       "      <th>...</th>\n",
       "      <th>sus_sections</th>\n",
       "      <th>non_sus_sections</th>\n",
       "      <th>packer</th>\n",
       "      <th>packer_type</th>\n",
       "      <th>E_text</th>\n",
       "      <th>E_data</th>\n",
       "      <th>filesize</th>\n",
       "      <th>E_file</th>\n",
       "      <th>fileinfo</th>\n",
       "      <th>class</th>\n",
       "    </tr>\n",
       "  </thead>\n",
       "  <tbody>\n",
       "    <tr>\n",
       "      <th>0</th>\n",
       "      <td>184</td>\n",
       "      <td>256</td>\n",
       "      <td>0</td>\n",
       "      <td>1</td>\n",
       "      <td>0</td>\n",
       "      <td>0</td>\n",
       "      <td>0</td>\n",
       "      <td>0</td>\n",
       "      <td>0</td>\n",
       "      <td>1</td>\n",
       "      <td>...</td>\n",
       "      <td>1</td>\n",
       "      <td>3</td>\n",
       "      <td>0</td>\n",
       "      <td>NoPacker</td>\n",
       "      <td>6.603616</td>\n",
       "      <td>5.443362</td>\n",
       "      <td>1181520</td>\n",
       "      <td>6.627552</td>\n",
       "      <td>1</td>\n",
       "      <td>0</td>\n",
       "    </tr>\n",
       "    <tr>\n",
       "      <th>1</th>\n",
       "      <td>184</td>\n",
       "      <td>184</td>\n",
       "      <td>0</td>\n",
       "      <td>1</td>\n",
       "      <td>1</td>\n",
       "      <td>1</td>\n",
       "      <td>0</td>\n",
       "      <td>0</td>\n",
       "      <td>0</td>\n",
       "      <td>1</td>\n",
       "      <td>...</td>\n",
       "      <td>1</td>\n",
       "      <td>3</td>\n",
       "      <td>0</td>\n",
       "      <td>NoPacker</td>\n",
       "      <td>5.205926</td>\n",
       "      <td>2.123522</td>\n",
       "      <td>7680</td>\n",
       "      <td>5.318221</td>\n",
       "      <td>0</td>\n",
       "      <td>0</td>\n",
       "    </tr>\n",
       "    <tr>\n",
       "      <th>2</th>\n",
       "      <td>184</td>\n",
       "      <td>272</td>\n",
       "      <td>0</td>\n",
       "      <td>1</td>\n",
       "      <td>0</td>\n",
       "      <td>0</td>\n",
       "      <td>0</td>\n",
       "      <td>0</td>\n",
       "      <td>0</td>\n",
       "      <td>1</td>\n",
       "      <td>...</td>\n",
       "      <td>1</td>\n",
       "      <td>4</td>\n",
       "      <td>0</td>\n",
       "      <td>NoPacker</td>\n",
       "      <td>6.238000</td>\n",
       "      <td>3.380859</td>\n",
       "      <td>57872</td>\n",
       "      <td>6.507758</td>\n",
       "      <td>1</td>\n",
       "      <td>0</td>\n",
       "    </tr>\n",
       "    <tr>\n",
       "      <th>3</th>\n",
       "      <td>184</td>\n",
       "      <td>184</td>\n",
       "      <td>0</td>\n",
       "      <td>1</td>\n",
       "      <td>0</td>\n",
       "      <td>0</td>\n",
       "      <td>0</td>\n",
       "      <td>0</td>\n",
       "      <td>0</td>\n",
       "      <td>1</td>\n",
       "      <td>...</td>\n",
       "      <td>0</td>\n",
       "      <td>1</td>\n",
       "      <td>0</td>\n",
       "      <td>NoPacker</td>\n",
       "      <td>0.000000</td>\n",
       "      <td>0.000000</td>\n",
       "      <td>95616</td>\n",
       "      <td>4.575092</td>\n",
       "      <td>1</td>\n",
       "      <td>0</td>\n",
       "    </tr>\n",
       "    <tr>\n",
       "      <th>4</th>\n",
       "      <td>184</td>\n",
       "      <td>224</td>\n",
       "      <td>0</td>\n",
       "      <td>1</td>\n",
       "      <td>0</td>\n",
       "      <td>0</td>\n",
       "      <td>0</td>\n",
       "      <td>0</td>\n",
       "      <td>0</td>\n",
       "      <td>1</td>\n",
       "      <td>...</td>\n",
       "      <td>1</td>\n",
       "      <td>4</td>\n",
       "      <td>0</td>\n",
       "      <td>NoPacker</td>\n",
       "      <td>6.355626</td>\n",
       "      <td>0.702621</td>\n",
       "      <td>48128</td>\n",
       "      <td>5.545531</td>\n",
       "      <td>1</td>\n",
       "      <td>0</td>\n",
       "    </tr>\n",
       "  </tbody>\n",
       "</table>\n",
       "<p>5 rows × 64 columns</p>\n",
       "</div>"
      ],
      "text/plain": [
       "   e_sp  e_lfanew  FH_char0  FH_char1  FH_char2  FH_char3  FH_char4  FH_char5  \\\n",
       "0   184       256         0         1         0         0         0         0   \n",
       "1   184       184         0         1         1         1         0         0   \n",
       "2   184       272         0         1         0         0         0         0   \n",
       "3   184       184         0         1         0         0         0         0   \n",
       "4   184       224         0         1         0         0         0         0   \n",
       "\n",
       "   FH_char6  FH_char7  ...  sus_sections  non_sus_sections  packer  \\\n",
       "0         0         1  ...             1                 3       0   \n",
       "1         0         1  ...             1                 3       0   \n",
       "2         0         1  ...             1                 4       0   \n",
       "3         0         1  ...             0                 1       0   \n",
       "4         0         1  ...             1                 4       0   \n",
       "\n",
       "   packer_type    E_text    E_data  filesize    E_file  fileinfo  class  \n",
       "0     NoPacker  6.603616  5.443362   1181520  6.627552         1      0  \n",
       "1     NoPacker  5.205926  2.123522      7680  5.318221         0      0  \n",
       "2     NoPacker  6.238000  3.380859     57872  6.507758         1      0  \n",
       "3     NoPacker  0.000000  0.000000     95616  4.575092         1      0  \n",
       "4     NoPacker  6.355626  0.702621     48128  5.545531         1      0  \n",
       "\n",
       "[5 rows x 64 columns]"
      ]
     },
     "execution_count": 46,
     "metadata": {},
     "output_type": "execute_result"
    }
   ],
   "source": [
    "# Peak on the dataset\n",
    "df.head()"
   ]
  },
  {
   "cell_type": "code",
   "execution_count": 47,
   "metadata": {
    "id": "7debc84a",
    "scrolled": true
   },
   "outputs": [],
   "source": [
    "yes,no = df['class'].value_counts()"
   ]
  },
  {
   "cell_type": "code",
   "execution_count": 48,
   "metadata": {
    "colab": {
     "base_uri": "https://localhost:8080/"
    },
    "id": "46a4fd5b",
    "outputId": "efd33847-5e32-4eb1-da1a-2ce58e072f20"
   },
   "outputs": [
    {
     "name": "stdout",
     "output_type": "stream",
     "text": [
      "2722 2488\n"
     ]
    }
   ],
   "source": [
    "print(yes,no)"
   ]
  },
  {
   "cell_type": "code",
   "execution_count": 49,
   "metadata": {
    "id": "5ed097ef"
   },
   "outputs": [],
   "source": [
    "#No class has less instances"
   ]
  },
  {
   "cell_type": "code",
   "execution_count": 50,
   "metadata": {
    "id": "e613e569"
   },
   "outputs": [],
   "source": [
    "# Encodings Labels so that they are compatible with machine leanring classifiers\n",
    "from sklearn.preprocessing import LabelEncoder\n",
    "le = LabelEncoder()\n",
    "for i in df:\n",
    "    if df[i].dtype=='object':\n",
    "        df[i] = le.fit_transform(df[i])\n",
    "    else:\n",
    "        continue\n",
    "X = df.drop(['class'],axis=1)\n",
    "y = df['class']"
   ]
  },
  {
   "cell_type": "code",
   "execution_count": 51,
   "metadata": {
    "colab": {
     "base_uri": "https://localhost:8080/",
     "height": 268
    },
    "id": "05c2946a",
    "outputId": "16dee9c6-8777-4c38-cd46-8adbb8ee6c4d",
    "scrolled": true
   },
   "outputs": [
    {
     "data": {
      "text/html": [
       "<div>\n",
       "<style scoped>\n",
       "    .dataframe tbody tr th:only-of-type {\n",
       "        vertical-align: middle;\n",
       "    }\n",
       "\n",
       "    .dataframe tbody tr th {\n",
       "        vertical-align: top;\n",
       "    }\n",
       "\n",
       "    .dataframe thead th {\n",
       "        text-align: right;\n",
       "    }\n",
       "</style>\n",
       "<table border=\"1\" class=\"dataframe\">\n",
       "  <thead>\n",
       "    <tr style=\"text-align: right;\">\n",
       "      <th></th>\n",
       "      <th>e_sp</th>\n",
       "      <th>e_lfanew</th>\n",
       "      <th>FH_char0</th>\n",
       "      <th>FH_char1</th>\n",
       "      <th>FH_char2</th>\n",
       "      <th>FH_char3</th>\n",
       "      <th>FH_char4</th>\n",
       "      <th>FH_char5</th>\n",
       "      <th>FH_char6</th>\n",
       "      <th>FH_char7</th>\n",
       "      <th>...</th>\n",
       "      <th>sus_sections</th>\n",
       "      <th>non_sus_sections</th>\n",
       "      <th>packer</th>\n",
       "      <th>packer_type</th>\n",
       "      <th>E_text</th>\n",
       "      <th>E_data</th>\n",
       "      <th>filesize</th>\n",
       "      <th>E_file</th>\n",
       "      <th>fileinfo</th>\n",
       "      <th>class</th>\n",
       "    </tr>\n",
       "  </thead>\n",
       "  <tbody>\n",
       "    <tr>\n",
       "      <th>0</th>\n",
       "      <td>184</td>\n",
       "      <td>256</td>\n",
       "      <td>0</td>\n",
       "      <td>1</td>\n",
       "      <td>0</td>\n",
       "      <td>0</td>\n",
       "      <td>0</td>\n",
       "      <td>0</td>\n",
       "      <td>0</td>\n",
       "      <td>1</td>\n",
       "      <td>...</td>\n",
       "      <td>1</td>\n",
       "      <td>3</td>\n",
       "      <td>0</td>\n",
       "      <td>18</td>\n",
       "      <td>6.603616</td>\n",
       "      <td>5.443362</td>\n",
       "      <td>1181520</td>\n",
       "      <td>6.627552</td>\n",
       "      <td>1</td>\n",
       "      <td>0</td>\n",
       "    </tr>\n",
       "    <tr>\n",
       "      <th>1</th>\n",
       "      <td>184</td>\n",
       "      <td>184</td>\n",
       "      <td>0</td>\n",
       "      <td>1</td>\n",
       "      <td>1</td>\n",
       "      <td>1</td>\n",
       "      <td>0</td>\n",
       "      <td>0</td>\n",
       "      <td>0</td>\n",
       "      <td>1</td>\n",
       "      <td>...</td>\n",
       "      <td>1</td>\n",
       "      <td>3</td>\n",
       "      <td>0</td>\n",
       "      <td>18</td>\n",
       "      <td>5.205926</td>\n",
       "      <td>2.123522</td>\n",
       "      <td>7680</td>\n",
       "      <td>5.318221</td>\n",
       "      <td>0</td>\n",
       "      <td>0</td>\n",
       "    </tr>\n",
       "    <tr>\n",
       "      <th>2</th>\n",
       "      <td>184</td>\n",
       "      <td>272</td>\n",
       "      <td>0</td>\n",
       "      <td>1</td>\n",
       "      <td>0</td>\n",
       "      <td>0</td>\n",
       "      <td>0</td>\n",
       "      <td>0</td>\n",
       "      <td>0</td>\n",
       "      <td>1</td>\n",
       "      <td>...</td>\n",
       "      <td>1</td>\n",
       "      <td>4</td>\n",
       "      <td>0</td>\n",
       "      <td>18</td>\n",
       "      <td>6.238000</td>\n",
       "      <td>3.380859</td>\n",
       "      <td>57872</td>\n",
       "      <td>6.507758</td>\n",
       "      <td>1</td>\n",
       "      <td>0</td>\n",
       "    </tr>\n",
       "    <tr>\n",
       "      <th>3</th>\n",
       "      <td>184</td>\n",
       "      <td>184</td>\n",
       "      <td>0</td>\n",
       "      <td>1</td>\n",
       "      <td>0</td>\n",
       "      <td>0</td>\n",
       "      <td>0</td>\n",
       "      <td>0</td>\n",
       "      <td>0</td>\n",
       "      <td>1</td>\n",
       "      <td>...</td>\n",
       "      <td>0</td>\n",
       "      <td>1</td>\n",
       "      <td>0</td>\n",
       "      <td>18</td>\n",
       "      <td>0.000000</td>\n",
       "      <td>0.000000</td>\n",
       "      <td>95616</td>\n",
       "      <td>4.575092</td>\n",
       "      <td>1</td>\n",
       "      <td>0</td>\n",
       "    </tr>\n",
       "    <tr>\n",
       "      <th>4</th>\n",
       "      <td>184</td>\n",
       "      <td>224</td>\n",
       "      <td>0</td>\n",
       "      <td>1</td>\n",
       "      <td>0</td>\n",
       "      <td>0</td>\n",
       "      <td>0</td>\n",
       "      <td>0</td>\n",
       "      <td>0</td>\n",
       "      <td>1</td>\n",
       "      <td>...</td>\n",
       "      <td>1</td>\n",
       "      <td>4</td>\n",
       "      <td>0</td>\n",
       "      <td>18</td>\n",
       "      <td>6.355626</td>\n",
       "      <td>0.702621</td>\n",
       "      <td>48128</td>\n",
       "      <td>5.545531</td>\n",
       "      <td>1</td>\n",
       "      <td>0</td>\n",
       "    </tr>\n",
       "  </tbody>\n",
       "</table>\n",
       "<p>5 rows × 64 columns</p>\n",
       "</div>"
      ],
      "text/plain": [
       "   e_sp  e_lfanew  FH_char0  FH_char1  FH_char2  FH_char3  FH_char4  FH_char5  \\\n",
       "0   184       256         0         1         0         0         0         0   \n",
       "1   184       184         0         1         1         1         0         0   \n",
       "2   184       272         0         1         0         0         0         0   \n",
       "3   184       184         0         1         0         0         0         0   \n",
       "4   184       224         0         1         0         0         0         0   \n",
       "\n",
       "   FH_char6  FH_char7  ...  sus_sections  non_sus_sections  packer  \\\n",
       "0         0         1  ...             1                 3       0   \n",
       "1         0         1  ...             1                 3       0   \n",
       "2         0         1  ...             1                 4       0   \n",
       "3         0         1  ...             0                 1       0   \n",
       "4         0         1  ...             1                 4       0   \n",
       "\n",
       "   packer_type    E_text    E_data  filesize    E_file  fileinfo  class  \n",
       "0           18  6.603616  5.443362   1181520  6.627552         1      0  \n",
       "1           18  5.205926  2.123522      7680  5.318221         0      0  \n",
       "2           18  6.238000  3.380859     57872  6.507758         1      0  \n",
       "3           18  0.000000  0.000000     95616  4.575092         1      0  \n",
       "4           18  6.355626  0.702621     48128  5.545531         1      0  \n",
       "\n",
       "[5 rows x 64 columns]"
      ]
     },
     "execution_count": 51,
     "metadata": {},
     "output_type": "execute_result"
    }
   ],
   "source": [
    "# Now check the features for the feature column \"Packer_type\". They are converted fr\n",
    "df.head()"
   ]
  },
  {
   "cell_type": "code",
   "execution_count": 52,
   "metadata": {
    "id": "16db7024"
   },
   "outputs": [],
   "source": [
    "# Scaling data. Default scaling is to scale the data to unit variance (or equivalent\n",
    "mms = MinMaxScaler()\n",
    "X = mms.fit_transform(X)\n",
    "X = torch.tensor(X, dtype=torch.float)\n",
    "y = torch.tensor(y, dtype=torch.float)"
   ]
  },
  {
   "cell_type": "code",
   "execution_count": 53,
   "metadata": {
    "id": "wkIpBmE8O5eY"
   },
   "outputs": [],
   "source": [
    "class Encoder(nn.Module):\n",
    "  def __init__(self):\n",
    "    current_dims = 63\n",
    "    encoded_dims = 15\n",
    "    super().__init__()\n",
    "    self.encoder = nn.Sequential(\n",
    "        #N, 63\n",
    "        nn.Linear(current_dims, current_dims*2),\n",
    "        nn.BatchNorm1d(current_dims*2),\n",
    "        nn.LeakyReLU(),\n",
    "        nn.Linear(current_dims*2, current_dims),\n",
    "        nn.BatchNorm1d(current_dims),\n",
    "        nn.LeakyReLU(),\n",
    "        nn.Linear(current_dims,encoded_dims),\n",
    "    )\n",
    "\n",
    "  def forward(self, x):\n",
    "    encoded = self.encoder(x)\n",
    "    return encoded"
   ]
  },
  {
   "cell_type": "code",
   "execution_count": 54,
   "metadata": {
    "id": "5scxnVg5Djzg"
   },
   "outputs": [],
   "source": [
    "encoder = Encoder()\n",
    "encoder.load_state_dict(torch.load('encoder.pt'))\n",
    "_ = encoder.eval()"
   ]
  },
  {
   "cell_type": "code",
   "execution_count": 55,
   "metadata": {
    "id": "YiDHxPyiEgpS"
   },
   "outputs": [],
   "source": [
    "X = encoder(X)"
   ]
  },
  {
   "cell_type": "code",
   "execution_count": 56,
   "metadata": {
    "id": "aRSYJPfAD5X0"
   },
   "outputs": [],
   "source": [
    "#mms = MinMaxScaler(feature_range = (-1,1))\n",
    "#X = torch.tensor(mms.fit_transform(encoded_X.detach().numpy()))"
   ]
  },
  {
   "cell_type": "code",
   "execution_count": 57,
   "metadata": {
    "colab": {
     "base_uri": "https://localhost:8080/"
    },
    "id": "FBs34QCfavgg",
    "outputId": "2095d7a1-4766-4e6d-d8ff-7d0cf7c378c4"
   },
   "outputs": [
    {
     "name": "stdout",
     "output_type": "stream",
     "text": [
      "tensor(-10.4013, grad_fn=<MinBackward1>) tensor(9.1075, grad_fn=<MaxBackward1>)\n"
     ]
    }
   ],
   "source": [
    "print(X.min(), X.max())"
   ]
  },
  {
   "cell_type": "code",
   "execution_count": 58,
   "metadata": {
    "id": "dqVRcsv-8CWc"
   },
   "outputs": [],
   "source": [
    "class Generator(nn.Module):\n",
    "  z_dim = 64\n",
    "  data_dim = 15\n",
    "  def __init__(self, z_dim = z_dim, data_dim = data_dim):\n",
    "    super().__init__()\n",
    "    self.gen = nn.Sequential(\n",
    "        nn.Linear(z_dim, 128),\n",
    "        nn.BatchNorm1d(128),\n",
    "        nn.ReLU(),\n",
    "        nn.Linear(128, 128),\n",
    "        nn.BatchNorm1d(128),\n",
    "        nn.ReLU(),\n",
    "        nn.Linear(128, data_dim),\n",
    "        nn.BatchNorm1d(data_dim)\n",
    "    )\n",
    "\n",
    "  def forward(self, x):\n",
    "    return self.gen(x)"
   ]
  },
  {
   "cell_type": "code",
   "execution_count": 59,
   "metadata": {
    "id": "RGr5dhQt8DuZ"
   },
   "outputs": [],
   "source": [
    "gen = Generator()\n",
    "gen.load_state_dict(torch.load(\"gan.pt\"))\n",
    "_ = gen.eval()\n",
    "with torch.no_grad():\n",
    "  out = gen(torch.randn(yes-no, gen.z_dim))\n",
    "encoded_X = torch.cat((X,out)).detach()\n",
    "y = torch.cat((y,torch.zeros(yes-no))).detach()"
   ]
  },
  {
   "cell_type": "code",
   "execution_count": 60,
   "metadata": {
    "id": "37df265e"
   },
   "outputs": [],
   "source": [
    "# Dividing data into training, testing and validation\n",
    "from sklearn.model_selection import train_test_split\n",
    "X_train, X_test, y_train, y_test = train_test_split(encoded_X, y, test_size=0.2, random_state=1)\n",
    "X_train, X_val, y_train, y_val = train_test_split(X_train, y_train, test_size=0.05, random_state=1)"
   ]
  },
  {
   "cell_type": "code",
   "execution_count": 61,
   "metadata": {
    "id": "hmlFLVIHXbAj"
   },
   "outputs": [],
   "source": [
    "pt_train = TensorDataset(X_train, y_train)\n",
    "pt_train = DataLoader(pt_train, batch_size = 64)"
   ]
  },
  {
   "cell_type": "code",
   "execution_count": 62,
   "metadata": {
    "id": "rjAeIyUgXE9o"
   },
   "outputs": [],
   "source": [
    "class PreTrainedMLP(nn.Module):\n",
    "  def __init__(self):\n",
    "    super(PreTrainedMLP, self).__init__()\n",
    "    self.model = nn.Sequential(\n",
    "        nn.Linear(15, 128),\n",
    "        nn.ReLU(),\n",
    "        nn.Linear(128, 64),\n",
    "        nn.ReLU(),\n",
    "        nn.Linear(64, 15),\n",
    "        nn.ReLU(),\n",
    "    )\n",
    "    self.clf = nn.Sequential(\n",
    "        nn.Linear(15, 1),\n",
    "        nn.Sigmoid()\n",
    "    )\n",
    "  def forward(self, x):\n",
    "      output = self.model(x)\n",
    "      return self.clf(output)"
   ]
  },
  {
   "cell_type": "code",
   "execution_count": 63,
   "metadata": {
    "id": "piXvJgNj-rlS"
   },
   "outputs": [],
   "source": [
    "mlp = PreTrainedMLP()\n",
    "pretrained_layers = torch.load(\"mlp_5.pt\")\n",
    "_ = mlp.load_state_dict(pretrained_layers)\n",
    "for param in mlp.parameters():\n",
    "  param.requires_grad = False\n",
    "mlp.clf = nn.Sequential(\n",
    "            nn.Linear(15, 1),\n",
    "            nn.Sigmoid()\n",
    ")"
   ]
  },
  {
   "cell_type": "code",
   "execution_count": 64,
   "metadata": {
    "id": "Cm1MHv41YIr6"
   },
   "outputs": [],
   "source": [
    "epochs = 100\n",
    "lr = 4e-3\n",
    "optimizer = torch.optim.Adam(mlp.parameters(), lr = lr)\n",
    "criterion = nn.BCELoss()"
   ]
  },
  {
   "cell_type": "code",
   "execution_count": 65,
   "metadata": {
    "colab": {
     "base_uri": "https://localhost:8080/"
    },
    "id": "r9qCM2OzYkn3",
    "outputId": "b463cf09-69c3-416d-e478-efe4d9f48b51"
   },
   "outputs": [
    {
     "name": "stdout",
     "output_type": "stream",
     "text": [
      "Epoch [1/100] \\ Loss: 0.043395306915044785\n",
      "Epoch [2/100] \\ Loss: 0.026712145656347275\n",
      "Epoch [3/100] \\ Loss: 0.02373727597296238\n",
      "Epoch [4/100] \\ Loss: 0.022023877128958702\n",
      "Epoch [5/100] \\ Loss: 0.020933525636792183\n",
      "Epoch [6/100] \\ Loss: 0.020195145159959793\n",
      "Epoch [7/100] \\ Loss: 0.01965988054871559\n",
      "Epoch [8/100] \\ Loss: 0.019243787974119186\n",
      "Epoch [9/100] \\ Loss: 0.018900053575634956\n",
      "Epoch [10/100] \\ Loss: 0.018603041768074036\n",
      "Epoch [11/100] \\ Loss: 0.018338916823267937\n",
      "Epoch [12/100] \\ Loss: 0.018100308254361153\n",
      "Epoch [13/100] \\ Loss: 0.017883295193314552\n",
      "Epoch [14/100] \\ Loss: 0.0176856629550457\n",
      "Epoch [15/100] \\ Loss: 0.017506038770079613\n",
      "Epoch [16/100] \\ Loss: 0.01734338141977787\n",
      "Epoch [17/100] \\ Loss: 0.017196757718920708\n",
      "Epoch [18/100] \\ Loss: 0.017065228894352913\n",
      "Epoch [19/100] \\ Loss: 0.016947854310274124\n",
      "Epoch [20/100] \\ Loss: 0.016843648627400398\n",
      "Epoch [21/100] \\ Loss: 0.0167516078799963\n",
      "Epoch [22/100] \\ Loss: 0.016670741140842438\n",
      "Epoch [23/100] \\ Loss: 0.016600094735622406\n",
      "Epoch [24/100] \\ Loss: 0.01653873734176159\n",
      "Epoch [25/100] \\ Loss: 0.016485778614878654\n",
      "Epoch [26/100] \\ Loss: 0.016440415754914284\n",
      "Epoch [27/100] \\ Loss: 0.016401883214712143\n",
      "Epoch [28/100] \\ Loss: 0.01636948250234127\n",
      "Epoch [29/100] \\ Loss: 0.016342584043741226\n",
      "Epoch [30/100] \\ Loss: 0.016320599243044853\n",
      "Epoch [31/100] \\ Loss: 0.016303004696965218\n",
      "Epoch [32/100] \\ Loss: 0.016289347782731056\n",
      "Epoch [33/100] \\ Loss: 0.016279185190796852\n",
      "Epoch [34/100] \\ Loss: 0.016272153705358505\n",
      "Epoch [35/100] \\ Loss: 0.016267914324998856\n",
      "Epoch [36/100] \\ Loss: 0.016266148537397385\n",
      "Epoch [37/100] \\ Loss: 0.016266601160168648\n",
      "Epoch [38/100] \\ Loss: 0.016269024461507797\n",
      "Epoch [39/100] \\ Loss: 0.016273202374577522\n",
      "Epoch [40/100] \\ Loss: 0.016278943046927452\n",
      "Epoch [41/100] \\ Loss: 0.016286075115203857\n",
      "Epoch [42/100] \\ Loss: 0.016294442117214203\n",
      "Epoch [43/100] \\ Loss: 0.016303908079862595\n",
      "Epoch [44/100] \\ Loss: 0.016314338892698288\n",
      "Epoch [45/100] \\ Loss: 0.016325639560818672\n",
      "Epoch [46/100] \\ Loss: 0.016337700188159943\n",
      "Epoch [47/100] \\ Loss: 0.016350433230400085\n",
      "Epoch [48/100] \\ Loss: 0.016363758593797684\n",
      "Epoch [49/100] \\ Loss: 0.01637759990990162\n",
      "Epoch [50/100] \\ Loss: 0.016391891986131668\n",
      "Epoch [51/100] \\ Loss: 0.016406577080488205\n",
      "Epoch [52/100] \\ Loss: 0.01642160676419735\n",
      "Epoch [53/100] \\ Loss: 0.016436928883194923\n",
      "Epoch [54/100] \\ Loss: 0.016452491283416748\n",
      "Epoch [55/100] \\ Loss: 0.016468266025185585\n",
      "Epoch [56/100] \\ Loss: 0.016484197229146957\n",
      "Epoch [57/100] \\ Loss: 0.016500279307365417\n",
      "Epoch [58/100] \\ Loss: 0.016516460105776787\n",
      "Epoch [59/100] \\ Loss: 0.01653273217380047\n",
      "Epoch [60/100] \\ Loss: 0.01654905080795288\n",
      "Epoch [61/100] \\ Loss: 0.01656540110707283\n",
      "Epoch [62/100] \\ Loss: 0.016581756994128227\n",
      "Epoch [63/100] \\ Loss: 0.016598109155893326\n",
      "Epoch [64/100] \\ Loss: 0.016614442691206932\n",
      "Epoch [65/100] \\ Loss: 0.016630737110972404\n",
      "Epoch [66/100] \\ Loss: 0.0166469793766737\n",
      "Epoch [67/100] \\ Loss: 0.01666315272450447\n",
      "Epoch [68/100] \\ Loss: 0.016679247841238976\n",
      "Epoch [69/100] \\ Loss: 0.016695257276296616\n",
      "Epoch [70/100] \\ Loss: 0.016711166128516197\n",
      "Epoch [71/100] \\ Loss: 0.01672697253525257\n",
      "Epoch [72/100] \\ Loss: 0.01674267090857029\n",
      "Epoch [73/100] \\ Loss: 0.016758251935243607\n",
      "Epoch [74/100] \\ Loss: 0.016773706302046776\n",
      "Epoch [75/100] \\ Loss: 0.0167890302836895\n",
      "Epoch [76/100] \\ Loss: 0.016804227605462074\n",
      "Epoch [77/100] \\ Loss: 0.01681928150355816\n",
      "Epoch [78/100] \\ Loss: 0.0168342012912035\n",
      "Epoch [79/100] \\ Loss: 0.01684897020459175\n",
      "Epoch [80/100] \\ Loss: 0.016863595694303513\n",
      "Epoch [81/100] \\ Loss: 0.016878072172403336\n",
      "Epoch [82/100] \\ Loss: 0.01689240150153637\n",
      "Epoch [83/100] \\ Loss: 0.016906574368476868\n",
      "Epoch [84/100] \\ Loss: 0.016920598223805428\n",
      "Epoch [85/100] \\ Loss: 0.016934474930167198\n",
      "Epoch [86/100] \\ Loss: 0.016948193311691284\n",
      "Epoch [87/100] \\ Loss: 0.016961757093667984\n",
      "Epoch [88/100] \\ Loss: 0.016975168138742447\n",
      "Epoch [89/100] \\ Loss: 0.016988424584269524\n",
      "Epoch [90/100] \\ Loss: 0.017001526430249214\n",
      "Epoch [91/100] \\ Loss: 0.01701449044048786\n",
      "Epoch [92/100] \\ Loss: 0.017027288675308228\n",
      "Epoch [93/100] \\ Loss: 0.0170399509370327\n",
      "Epoch [94/100] \\ Loss: 0.017052462324500084\n",
      "Epoch [95/100] \\ Loss: 0.017064817249774933\n",
      "Epoch [96/100] \\ Loss: 0.01707703247666359\n",
      "Epoch [97/100] \\ Loss: 0.017089106142520905\n",
      "Epoch [98/100] \\ Loss: 0.01710103265941143\n",
      "Epoch [99/100] \\ Loss: 0.017112821340560913\n",
      "Epoch [100/100] \\ Loss: 0.017124474048614502\n"
     ]
    }
   ],
   "source": [
    "import time\n",
    "start = time.time()\n",
    "losses = []\n",
    "for epoch in range(epochs):\n",
    "  for batch_idx, (x, target) in enumerate(pt_train):\n",
    "    output = mlp(x)\n",
    "    loss = criterion(output, target.view(-1,1))\n",
    "    optimizer.zero_grad()\n",
    "    loss.backward()\n",
    "    optimizer.step()\n",
    "    if batch_idx == 0:\n",
    "      print(\n",
    "          f\"Epoch [{epoch+1}/{epochs}] \\ \"\n",
    "          f\"Loss: {loss.item()}\"\n",
    "      ) \n",
    "  losses.append(loss.item())\n",
    "end = time.time()"
   ]
  },
  {
   "cell_type": "code",
   "execution_count": 66,
   "metadata": {
    "id": "n3YBlni4OWKn"
   },
   "outputs": [
    {
     "name": "stdout",
     "output_type": "stream",
     "text": [
      "Took 12.02 seconds to train \n"
     ]
    }
   ],
   "source": [
    "print(f\"Took {end-start:.2f} seconds to train \")"
   ]
  },
  {
   "cell_type": "code",
   "execution_count": 67,
   "metadata": {
    "id": "4EMsEsIexoIw"
   },
   "outputs": [
    {
     "data": {
      "image/png": "[encoded data removed]",
      "text/plain": [
       "<Figure size 432x288 with 1 Axes>"
      ]
     },
     "metadata": {
      "needs_background": "light"
     },
     "output_type": "display_data"
    }
   ],
   "source": [
    "_ = plt.plot(losses)"
   ]
  },
  {
   "cell_type": "code",
   "execution_count": 68,
   "metadata": {
    "id": "CIbnhN5LiPdO"
   },
   "outputs": [],
   "source": [
    "_ = mlp.eval()"
   ]
  },
  {
   "cell_type": "code",
   "execution_count": 69,
   "metadata": {
    "id": "04HrTyjSiRUj"
   },
   "outputs": [],
   "source": [
    "with torch.no_grad():\n",
    "  lr_probs_1 = mlp(X_test).squeeze()\n",
    "  ml_pred = lr_probs_1.round()"
   ]
  },
  {
   "cell_type": "code",
   "execution_count": 70,
   "metadata": {
    "id": "4516bf95"
   },
   "outputs": [
    {
     "name": "stdout",
     "output_type": "stream",
     "text": [
      "Test accuracy is:0.9697\n",
      "Precision: 0.9629 Recall: 0.9756\n"
     ]
    }
   ],
   "source": [
    "from sklearn.metrics import confusion_matrix\n",
    "cm = confusion_matrix(y_test, ml_pred)\n",
    "tn=cm[0][0] #tn\n",
    "fn=cm[0][1] #fn\n",
    "fp=cm[1][0] #fp\n",
    "tp=cm[1][1] #tp\n",
    "acc= (tp+tn)/(tp+tn+fn+fp)\n",
    "epsilon = 1e-7 # is used so that to avoid divide by zero error\n",
    "precision = tp / (tp + fp + epsilon)\n",
    "recall = tp / (tp + fn + epsilon)\n",
    "sensitivity,specificity = tp/(tp+fn),tn/(tn+fp)\n",
    "print(\"Test accuracy is:\"+str(format(acc,'.4f')))\n",
    "print(\"Precision: \"+str(format(precision,'.4f'))+\" Recall: \"+str(format(recall,'.4f')))"
   ]
  },
  {
   "cell_type": "code",
   "execution_count": 71,
   "metadata": {
    "id": "fWmf_H_mqBAS"
   },
   "outputs": [
    {
     "data": {
      "image/png": "[encoded data removed]",
      "text/plain": [
       "<Figure size 432x288 with 1 Axes>"
      ]
     },
     "metadata": {
      "needs_background": "light"
     },
     "output_type": "display_data"
    },
    {
     "name": "stdout",
     "output_type": "stream",
     "text": [
      "F1: 0.969187675070028\n",
      "AUC: 0.9891226344837839\n",
      "Accuracy 0.9696969696969697\n"
     ]
    },
    {
     "data": {
      "image/png": "[encoded data removed]",
      "text/plain": [
       "<Figure size 432x288 with 1 Axes>"
      ]
     },
     "metadata": {
      "needs_background": "light"
     },
     "output_type": "display_data"
    }
   ],
   "source": [
    "from sklearn.metrics import auc\n",
    "from sklearn.metrics import accuracy_score\n",
    "import matplotlib.pyplot as plt\n",
    "lr_precision, lr_recall, _ = precision_recall_curve(y_test, lr_probs_1)\n",
    "lr_f1, lr_auc = f1_score(y_test, ml_pred), auc(lr_recall, lr_precision)\n",
    "no_skill = len(y_test[y_test==1]) / len(y_test)\n",
    "acc = accuracy_score(y_test, ml_pred)\n",
    "plt.plot([0, 1], [no_skill, no_skill], linestyle='--', label='No Skill', c = \"blue\")\n",
    "plt.plot(lr_recall, lr_precision, marker='.', label='Logistic', c = \"orange\")\n",
    "# axis labels\n",
    "plt.xlabel('Recall')\n",
    "plt.ylabel('Precision')\n",
    "# show the legend\n",
    "plt.legend()\n",
    "# show the plot\n",
    "plt.show()\n",
    "print(\"F1:\",lr_f1)\n",
    "print(\"AUC:\",lr_auc)\n",
    "print(\"Accuracy\",acc)\n",
    "disp = ConfusionMatrixDisplay(confusion_matrix = cm)\n",
    "_ = disp.plot(cmap=\"copper\", colorbar = False)"
   ]
  }
 ],
 "metadata": {
  "colab": {
   "collapsed_sections": [],
   "name": "Transfer MLP.ipynb",
   "provenance": []
  },
  "kernelspec": {
   "display_name": "Python 3 (ipykernel)",
   "language": "python",
   "name": "python3"
  },
  "language_info": {
   "codemirror_mode": {
    "name": "ipython",
    "version": 3
   },
   "file_extension": ".py",
   "mimetype": "text/x-python",
   "name": "python",
   "nbconvert_exporter": "python",
   "pygments_lexer": "ipython3",
   "version": "3.8.10"
  }
 },
 "nbformat": 4,
 "nbformat_minor": 1
}
