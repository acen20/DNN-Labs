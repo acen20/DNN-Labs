{
 "cells": [
  {
   "cell_type": "code",
   "execution_count": 93,
   "metadata": {
    "id": "8ec7a96a"
   },
   "outputs": [],
   "source": [
    "import torch\n",
    "from torch import nn\n",
    "from torchvision import transforms\n",
    "from torch.utils.data import TensorDataset, DataLoader\n",
    "import matplotlib.pyplot as plt\n",
    "from sklearn.metrics import precision_recall_curve\n",
    "from matplotlib import pyplot\n",
    "from sklearn.metrics import f1_score\n",
    "from sklearn.metrics import ConfusionMatrixDisplay\n",
    "from sklearn.model_selection import cross_val_score\n",
    "import numpy as np\n",
    "from sklearn.preprocessing import LabelEncoder\n",
    "from sklearn.model_selection import train_test_split\n",
    "from sklearn.metrics import classification_report\n",
    "from sklearn.preprocessing import MinMaxScaler, StandardScaler"
   ]
  },
  {
   "cell_type": "code",
   "execution_count": 94,
   "metadata": {
    "id": "2c580674"
   },
   "outputs": [],
   "source": [
    "from warnings import simplefilter\n",
    "from sklearn.exceptions import ConvergenceWarning\n",
    "simplefilter(\"ignore\", category=ConvergenceWarning)"
   ]
  },
  {
   "cell_type": "code",
   "execution_count": 95,
   "metadata": {
    "id": "929c5c3c"
   },
   "outputs": [],
   "source": [
    "import pandas as pd # data processing, CSV file I/O (e.g. pd.read_csv)\n",
    "# Loading Dataset\n",
    "# Dataset link: https://data.mendeley.com/datasets/xvyv59vwvz/1\n",
    "# Dataset is present in the current directory containing the code file.\n",
    "df=pd.read_csv('../Datasets/ClaMP_Integrated-5184.csv')"
   ]
  },
  {
   "cell_type": "markdown",
   "metadata": {
    "id": "5b488c60"
   },
   "source": [
    "## Preprocessing"
   ]
  },
  {
   "cell_type": "code",
   "execution_count": 96,
   "metadata": {
    "colab": {
     "base_uri": "https://localhost:8080/",
     "height": 268
    },
    "id": "e919a469",
    "outputId": "0ae961bf-598a-4d73-e816-8e982b7ee8a2",
    "scrolled": true
   },
   "outputs": [
    {
     "data": {
      "text/html": [
       "<div>\n",
       "<style scoped>\n",
       "    .dataframe tbody tr th:only-of-type {\n",
       "        vertical-align: middle;\n",
       "    }\n",
       "\n",
       "    .dataframe tbody tr th {\n",
       "        vertical-align: top;\n",
       "    }\n",
       "\n",
       "    .dataframe thead th {\n",
       "        text-align: right;\n",
       "    }\n",
       "</style>\n",
       "<table border=\"1\" class=\"dataframe\">\n",
       "  <thead>\n",
       "    <tr style=\"text-align: right;\">\n",
       "      <th></th>\n",
       "      <th>e_cblp</th>\n",
       "      <th>e_cp</th>\n",
       "      <th>e_cparhdr</th>\n",
       "      <th>e_maxalloc</th>\n",
       "      <th>e_sp</th>\n",
       "      <th>e_lfanew</th>\n",
       "      <th>NumberOfSections</th>\n",
       "      <th>CreationYear</th>\n",
       "      <th>FH_char0</th>\n",
       "      <th>FH_char1</th>\n",
       "      <th>...</th>\n",
       "      <th>sus_sections</th>\n",
       "      <th>non_sus_sections</th>\n",
       "      <th>packer</th>\n",
       "      <th>packer_type</th>\n",
       "      <th>E_text</th>\n",
       "      <th>E_data</th>\n",
       "      <th>filesize</th>\n",
       "      <th>E_file</th>\n",
       "      <th>fileinfo</th>\n",
       "      <th>class</th>\n",
       "    </tr>\n",
       "  </thead>\n",
       "  <tbody>\n",
       "    <tr>\n",
       "      <th>0</th>\n",
       "      <td>144</td>\n",
       "      <td>3</td>\n",
       "      <td>4</td>\n",
       "      <td>65535</td>\n",
       "      <td>184</td>\n",
       "      <td>256</td>\n",
       "      <td>4</td>\n",
       "      <td>1</td>\n",
       "      <td>0</td>\n",
       "      <td>1</td>\n",
       "      <td>...</td>\n",
       "      <td>1</td>\n",
       "      <td>3</td>\n",
       "      <td>0</td>\n",
       "      <td>NoPacker</td>\n",
       "      <td>6.603616</td>\n",
       "      <td>5.443362</td>\n",
       "      <td>1181520</td>\n",
       "      <td>6.627552</td>\n",
       "      <td>1</td>\n",
       "      <td>0</td>\n",
       "    </tr>\n",
       "    <tr>\n",
       "      <th>1</th>\n",
       "      <td>144</td>\n",
       "      <td>3</td>\n",
       "      <td>4</td>\n",
       "      <td>65535</td>\n",
       "      <td>184</td>\n",
       "      <td>184</td>\n",
       "      <td>4</td>\n",
       "      <td>1</td>\n",
       "      <td>0</td>\n",
       "      <td>1</td>\n",
       "      <td>...</td>\n",
       "      <td>1</td>\n",
       "      <td>3</td>\n",
       "      <td>0</td>\n",
       "      <td>NoPacker</td>\n",
       "      <td>5.205926</td>\n",
       "      <td>2.123522</td>\n",
       "      <td>7680</td>\n",
       "      <td>5.318221</td>\n",
       "      <td>0</td>\n",
       "      <td>0</td>\n",
       "    </tr>\n",
       "    <tr>\n",
       "      <th>2</th>\n",
       "      <td>144</td>\n",
       "      <td>3</td>\n",
       "      <td>4</td>\n",
       "      <td>65535</td>\n",
       "      <td>184</td>\n",
       "      <td>272</td>\n",
       "      <td>5</td>\n",
       "      <td>1</td>\n",
       "      <td>0</td>\n",
       "      <td>1</td>\n",
       "      <td>...</td>\n",
       "      <td>1</td>\n",
       "      <td>4</td>\n",
       "      <td>0</td>\n",
       "      <td>NoPacker</td>\n",
       "      <td>6.238000</td>\n",
       "      <td>3.380859</td>\n",
       "      <td>57872</td>\n",
       "      <td>6.507758</td>\n",
       "      <td>1</td>\n",
       "      <td>0</td>\n",
       "    </tr>\n",
       "    <tr>\n",
       "      <th>3</th>\n",
       "      <td>144</td>\n",
       "      <td>3</td>\n",
       "      <td>4</td>\n",
       "      <td>65535</td>\n",
       "      <td>184</td>\n",
       "      <td>184</td>\n",
       "      <td>1</td>\n",
       "      <td>1</td>\n",
       "      <td>0</td>\n",
       "      <td>1</td>\n",
       "      <td>...</td>\n",
       "      <td>0</td>\n",
       "      <td>1</td>\n",
       "      <td>0</td>\n",
       "      <td>NoPacker</td>\n",
       "      <td>0.000000</td>\n",
       "      <td>0.000000</td>\n",
       "      <td>95616</td>\n",
       "      <td>4.575092</td>\n",
       "      <td>1</td>\n",
       "      <td>0</td>\n",
       "    </tr>\n",
       "    <tr>\n",
       "      <th>4</th>\n",
       "      <td>144</td>\n",
       "      <td>3</td>\n",
       "      <td>4</td>\n",
       "      <td>65535</td>\n",
       "      <td>184</td>\n",
       "      <td>224</td>\n",
       "      <td>5</td>\n",
       "      <td>1</td>\n",
       "      <td>0</td>\n",
       "      <td>1</td>\n",
       "      <td>...</td>\n",
       "      <td>1</td>\n",
       "      <td>4</td>\n",
       "      <td>0</td>\n",
       "      <td>NoPacker</td>\n",
       "      <td>6.355626</td>\n",
       "      <td>0.702621</td>\n",
       "      <td>48128</td>\n",
       "      <td>5.545531</td>\n",
       "      <td>1</td>\n",
       "      <td>0</td>\n",
       "    </tr>\n",
       "  </tbody>\n",
       "</table>\n",
       "<p>5 rows × 70 columns</p>\n",
       "</div>"
      ],
      "text/plain": [
       "   e_cblp  e_cp  e_cparhdr  e_maxalloc  e_sp  e_lfanew  NumberOfSections  \\\n",
       "0     144     3          4       65535   184       256                 4   \n",
       "1     144     3          4       65535   184       184                 4   \n",
       "2     144     3          4       65535   184       272                 5   \n",
       "3     144     3          4       65535   184       184                 1   \n",
       "4     144     3          4       65535   184       224                 5   \n",
       "\n",
       "   CreationYear  FH_char0  FH_char1  ...  sus_sections  non_sus_sections  \\\n",
       "0             1         0         1  ...             1                 3   \n",
       "1             1         0         1  ...             1                 3   \n",
       "2             1         0         1  ...             1                 4   \n",
       "3             1         0         1  ...             0                 1   \n",
       "4             1         0         1  ...             1                 4   \n",
       "\n",
       "   packer  packer_type    E_text    E_data  filesize    E_file  fileinfo  \\\n",
       "0       0     NoPacker  6.603616  5.443362   1181520  6.627552         1   \n",
       "1       0     NoPacker  5.205926  2.123522      7680  5.318221         0   \n",
       "2       0     NoPacker  6.238000  3.380859     57872  6.507758         1   \n",
       "3       0     NoPacker  0.000000  0.000000     95616  4.575092         1   \n",
       "4       0     NoPacker  6.355626  0.702621     48128  5.545531         1   \n",
       "\n",
       "   class  \n",
       "0      0  \n",
       "1      0  \n",
       "2      0  \n",
       "3      0  \n",
       "4      0  \n",
       "\n",
       "[5 rows x 70 columns]"
      ]
     },
     "execution_count": 96,
     "metadata": {},
     "output_type": "execute_result"
    }
   ],
   "source": [
    "df.head()"
   ]
  },
  {
   "cell_type": "code",
   "execution_count": 97,
   "metadata": {
    "id": "aa639012"
   },
   "outputs": [],
   "source": [
    "# Replacing Null values with 0. ML classifer cannot learn on Null values\n",
    "df.fillna(0, inplace=True)"
   ]
  },
  {
   "cell_type": "code",
   "execution_count": 98,
   "metadata": {
    "colab": {
     "base_uri": "https://localhost:8080/",
     "height": 268
    },
    "id": "740bf015",
    "outputId": "6af431af-a91c-49f1-dffc-10b042c0bce5"
   },
   "outputs": [
    {
     "data": {
      "text/html": [
       "<div>\n",
       "<style scoped>\n",
       "    .dataframe tbody tr th:only-of-type {\n",
       "        vertical-align: middle;\n",
       "    }\n",
       "\n",
       "    .dataframe tbody tr th {\n",
       "        vertical-align: top;\n",
       "    }\n",
       "\n",
       "    .dataframe thead th {\n",
       "        text-align: right;\n",
       "    }\n",
       "</style>\n",
       "<table border=\"1\" class=\"dataframe\">\n",
       "  <thead>\n",
       "    <tr style=\"text-align: right;\">\n",
       "      <th></th>\n",
       "      <th>e_cblp</th>\n",
       "      <th>e_cp</th>\n",
       "      <th>e_cparhdr</th>\n",
       "      <th>e_maxalloc</th>\n",
       "      <th>e_sp</th>\n",
       "      <th>e_lfanew</th>\n",
       "      <th>NumberOfSections</th>\n",
       "      <th>CreationYear</th>\n",
       "      <th>FH_char0</th>\n",
       "      <th>FH_char1</th>\n",
       "      <th>...</th>\n",
       "      <th>sus_sections</th>\n",
       "      <th>non_sus_sections</th>\n",
       "      <th>packer</th>\n",
       "      <th>packer_type</th>\n",
       "      <th>E_text</th>\n",
       "      <th>E_data</th>\n",
       "      <th>filesize</th>\n",
       "      <th>E_file</th>\n",
       "      <th>fileinfo</th>\n",
       "      <th>class</th>\n",
       "    </tr>\n",
       "  </thead>\n",
       "  <tbody>\n",
       "    <tr>\n",
       "      <th>0</th>\n",
       "      <td>144</td>\n",
       "      <td>3</td>\n",
       "      <td>4</td>\n",
       "      <td>65535</td>\n",
       "      <td>184</td>\n",
       "      <td>256</td>\n",
       "      <td>4</td>\n",
       "      <td>1</td>\n",
       "      <td>0</td>\n",
       "      <td>1</td>\n",
       "      <td>...</td>\n",
       "      <td>1</td>\n",
       "      <td>3</td>\n",
       "      <td>0</td>\n",
       "      <td>NoPacker</td>\n",
       "      <td>6.603616</td>\n",
       "      <td>5.443362</td>\n",
       "      <td>1181520</td>\n",
       "      <td>6.627552</td>\n",
       "      <td>1</td>\n",
       "      <td>0</td>\n",
       "    </tr>\n",
       "    <tr>\n",
       "      <th>1</th>\n",
       "      <td>144</td>\n",
       "      <td>3</td>\n",
       "      <td>4</td>\n",
       "      <td>65535</td>\n",
       "      <td>184</td>\n",
       "      <td>184</td>\n",
       "      <td>4</td>\n",
       "      <td>1</td>\n",
       "      <td>0</td>\n",
       "      <td>1</td>\n",
       "      <td>...</td>\n",
       "      <td>1</td>\n",
       "      <td>3</td>\n",
       "      <td>0</td>\n",
       "      <td>NoPacker</td>\n",
       "      <td>5.205926</td>\n",
       "      <td>2.123522</td>\n",
       "      <td>7680</td>\n",
       "      <td>5.318221</td>\n",
       "      <td>0</td>\n",
       "      <td>0</td>\n",
       "    </tr>\n",
       "    <tr>\n",
       "      <th>2</th>\n",
       "      <td>144</td>\n",
       "      <td>3</td>\n",
       "      <td>4</td>\n",
       "      <td>65535</td>\n",
       "      <td>184</td>\n",
       "      <td>272</td>\n",
       "      <td>5</td>\n",
       "      <td>1</td>\n",
       "      <td>0</td>\n",
       "      <td>1</td>\n",
       "      <td>...</td>\n",
       "      <td>1</td>\n",
       "      <td>4</td>\n",
       "      <td>0</td>\n",
       "      <td>NoPacker</td>\n",
       "      <td>6.238000</td>\n",
       "      <td>3.380859</td>\n",
       "      <td>57872</td>\n",
       "      <td>6.507758</td>\n",
       "      <td>1</td>\n",
       "      <td>0</td>\n",
       "    </tr>\n",
       "    <tr>\n",
       "      <th>3</th>\n",
       "      <td>144</td>\n",
       "      <td>3</td>\n",
       "      <td>4</td>\n",
       "      <td>65535</td>\n",
       "      <td>184</td>\n",
       "      <td>184</td>\n",
       "      <td>1</td>\n",
       "      <td>1</td>\n",
       "      <td>0</td>\n",
       "      <td>1</td>\n",
       "      <td>...</td>\n",
       "      <td>0</td>\n",
       "      <td>1</td>\n",
       "      <td>0</td>\n",
       "      <td>NoPacker</td>\n",
       "      <td>0.000000</td>\n",
       "      <td>0.000000</td>\n",
       "      <td>95616</td>\n",
       "      <td>4.575092</td>\n",
       "      <td>1</td>\n",
       "      <td>0</td>\n",
       "    </tr>\n",
       "    <tr>\n",
       "      <th>4</th>\n",
       "      <td>144</td>\n",
       "      <td>3</td>\n",
       "      <td>4</td>\n",
       "      <td>65535</td>\n",
       "      <td>184</td>\n",
       "      <td>224</td>\n",
       "      <td>5</td>\n",
       "      <td>1</td>\n",
       "      <td>0</td>\n",
       "      <td>1</td>\n",
       "      <td>...</td>\n",
       "      <td>1</td>\n",
       "      <td>4</td>\n",
       "      <td>0</td>\n",
       "      <td>NoPacker</td>\n",
       "      <td>6.355626</td>\n",
       "      <td>0.702621</td>\n",
       "      <td>48128</td>\n",
       "      <td>5.545531</td>\n",
       "      <td>1</td>\n",
       "      <td>0</td>\n",
       "    </tr>\n",
       "  </tbody>\n",
       "</table>\n",
       "<p>5 rows × 70 columns</p>\n",
       "</div>"
      ],
      "text/plain": [
       "   e_cblp  e_cp  e_cparhdr  e_maxalloc  e_sp  e_lfanew  NumberOfSections  \\\n",
       "0     144     3          4       65535   184       256                 4   \n",
       "1     144     3          4       65535   184       184                 4   \n",
       "2     144     3          4       65535   184       272                 5   \n",
       "3     144     3          4       65535   184       184                 1   \n",
       "4     144     3          4       65535   184       224                 5   \n",
       "\n",
       "   CreationYear  FH_char0  FH_char1  ...  sus_sections  non_sus_sections  \\\n",
       "0             1         0         1  ...             1                 3   \n",
       "1             1         0         1  ...             1                 3   \n",
       "2             1         0         1  ...             1                 4   \n",
       "3             1         0         1  ...             0                 1   \n",
       "4             1         0         1  ...             1                 4   \n",
       "\n",
       "   packer  packer_type    E_text    E_data  filesize    E_file  fileinfo  \\\n",
       "0       0     NoPacker  6.603616  5.443362   1181520  6.627552         1   \n",
       "1       0     NoPacker  5.205926  2.123522      7680  5.318221         0   \n",
       "2       0     NoPacker  6.238000  3.380859     57872  6.507758         1   \n",
       "3       0     NoPacker  0.000000  0.000000     95616  4.575092         1   \n",
       "4       0     NoPacker  6.355626  0.702621     48128  5.545531         1   \n",
       "\n",
       "   class  \n",
       "0      0  \n",
       "1      0  \n",
       "2      0  \n",
       "3      0  \n",
       "4      0  \n",
       "\n",
       "[5 rows x 70 columns]"
      ]
     },
     "execution_count": 98,
     "metadata": {},
     "output_type": "execute_result"
    }
   ],
   "source": [
    "# Peak on dataset\n",
    "df.head()"
   ]
  },
  {
   "cell_type": "code",
   "execution_count": 99,
   "metadata": {
    "id": "f479e679"
   },
   "outputs": [],
   "source": [
    "# Droping these columns due to their insignificance\n",
    "df=df.drop(['NumberOfSections','CreationYear','e_cblp','e_cp','e_cparhdr','e_maxalloc'], axis=1)"
   ]
  },
  {
   "cell_type": "code",
   "execution_count": 100,
   "metadata": {
    "colab": {
     "base_uri": "https://localhost:8080/"
    },
    "id": "9ec1c0af",
    "outputId": "2dc432f6-2e07-45fe-d29a-52514ef91d5c"
   },
   "outputs": [
    {
     "data": {
      "text/plain": [
       "(5210, 64)"
      ]
     },
     "execution_count": 100,
     "metadata": {},
     "output_type": "execute_result"
    }
   ],
   "source": [
    "df.shape"
   ]
  },
  {
   "cell_type": "code",
   "execution_count": 101,
   "metadata": {
    "colab": {
     "base_uri": "https://localhost:8080/",
     "height": 268
    },
    "id": "bfbee834",
    "outputId": "9c8c37cd-28a2-4b68-903e-5a9fff626b32"
   },
   "outputs": [
    {
     "data": {
      "text/html": [
       "<div>\n",
       "<style scoped>\n",
       "    .dataframe tbody tr th:only-of-type {\n",
       "        vertical-align: middle;\n",
       "    }\n",
       "\n",
       "    .dataframe tbody tr th {\n",
       "        vertical-align: top;\n",
       "    }\n",
       "\n",
       "    .dataframe thead th {\n",
       "        text-align: right;\n",
       "    }\n",
       "</style>\n",
       "<table border=\"1\" class=\"dataframe\">\n",
       "  <thead>\n",
       "    <tr style=\"text-align: right;\">\n",
       "      <th></th>\n",
       "      <th>e_sp</th>\n",
       "      <th>e_lfanew</th>\n",
       "      <th>FH_char0</th>\n",
       "      <th>FH_char1</th>\n",
       "      <th>FH_char2</th>\n",
       "      <th>FH_char3</th>\n",
       "      <th>FH_char4</th>\n",
       "      <th>FH_char5</th>\n",
       "      <th>FH_char6</th>\n",
       "      <th>FH_char7</th>\n",
       "      <th>...</th>\n",
       "      <th>sus_sections</th>\n",
       "      <th>non_sus_sections</th>\n",
       "      <th>packer</th>\n",
       "      <th>packer_type</th>\n",
       "      <th>E_text</th>\n",
       "      <th>E_data</th>\n",
       "      <th>filesize</th>\n",
       "      <th>E_file</th>\n",
       "      <th>fileinfo</th>\n",
       "      <th>class</th>\n",
       "    </tr>\n",
       "  </thead>\n",
       "  <tbody>\n",
       "    <tr>\n",
       "      <th>0</th>\n",
       "      <td>184</td>\n",
       "      <td>256</td>\n",
       "      <td>0</td>\n",
       "      <td>1</td>\n",
       "      <td>0</td>\n",
       "      <td>0</td>\n",
       "      <td>0</td>\n",
       "      <td>0</td>\n",
       "      <td>0</td>\n",
       "      <td>1</td>\n",
       "      <td>...</td>\n",
       "      <td>1</td>\n",
       "      <td>3</td>\n",
       "      <td>0</td>\n",
       "      <td>NoPacker</td>\n",
       "      <td>6.603616</td>\n",
       "      <td>5.443362</td>\n",
       "      <td>1181520</td>\n",
       "      <td>6.627552</td>\n",
       "      <td>1</td>\n",
       "      <td>0</td>\n",
       "    </tr>\n",
       "    <tr>\n",
       "      <th>1</th>\n",
       "      <td>184</td>\n",
       "      <td>184</td>\n",
       "      <td>0</td>\n",
       "      <td>1</td>\n",
       "      <td>1</td>\n",
       "      <td>1</td>\n",
       "      <td>0</td>\n",
       "      <td>0</td>\n",
       "      <td>0</td>\n",
       "      <td>1</td>\n",
       "      <td>...</td>\n",
       "      <td>1</td>\n",
       "      <td>3</td>\n",
       "      <td>0</td>\n",
       "      <td>NoPacker</td>\n",
       "      <td>5.205926</td>\n",
       "      <td>2.123522</td>\n",
       "      <td>7680</td>\n",
       "      <td>5.318221</td>\n",
       "      <td>0</td>\n",
       "      <td>0</td>\n",
       "    </tr>\n",
       "    <tr>\n",
       "      <th>2</th>\n",
       "      <td>184</td>\n",
       "      <td>272</td>\n",
       "      <td>0</td>\n",
       "      <td>1</td>\n",
       "      <td>0</td>\n",
       "      <td>0</td>\n",
       "      <td>0</td>\n",
       "      <td>0</td>\n",
       "      <td>0</td>\n",
       "      <td>1</td>\n",
       "      <td>...</td>\n",
       "      <td>1</td>\n",
       "      <td>4</td>\n",
       "      <td>0</td>\n",
       "      <td>NoPacker</td>\n",
       "      <td>6.238000</td>\n",
       "      <td>3.380859</td>\n",
       "      <td>57872</td>\n",
       "      <td>6.507758</td>\n",
       "      <td>1</td>\n",
       "      <td>0</td>\n",
       "    </tr>\n",
       "    <tr>\n",
       "      <th>3</th>\n",
       "      <td>184</td>\n",
       "      <td>184</td>\n",
       "      <td>0</td>\n",
       "      <td>1</td>\n",
       "      <td>0</td>\n",
       "      <td>0</td>\n",
       "      <td>0</td>\n",
       "      <td>0</td>\n",
       "      <td>0</td>\n",
       "      <td>1</td>\n",
       "      <td>...</td>\n",
       "      <td>0</td>\n",
       "      <td>1</td>\n",
       "      <td>0</td>\n",
       "      <td>NoPacker</td>\n",
       "      <td>0.000000</td>\n",
       "      <td>0.000000</td>\n",
       "      <td>95616</td>\n",
       "      <td>4.575092</td>\n",
       "      <td>1</td>\n",
       "      <td>0</td>\n",
       "    </tr>\n",
       "    <tr>\n",
       "      <th>4</th>\n",
       "      <td>184</td>\n",
       "      <td>224</td>\n",
       "      <td>0</td>\n",
       "      <td>1</td>\n",
       "      <td>0</td>\n",
       "      <td>0</td>\n",
       "      <td>0</td>\n",
       "      <td>0</td>\n",
       "      <td>0</td>\n",
       "      <td>1</td>\n",
       "      <td>...</td>\n",
       "      <td>1</td>\n",
       "      <td>4</td>\n",
       "      <td>0</td>\n",
       "      <td>NoPacker</td>\n",
       "      <td>6.355626</td>\n",
       "      <td>0.702621</td>\n",
       "      <td>48128</td>\n",
       "      <td>5.545531</td>\n",
       "      <td>1</td>\n",
       "      <td>0</td>\n",
       "    </tr>\n",
       "  </tbody>\n",
       "</table>\n",
       "<p>5 rows × 64 columns</p>\n",
       "</div>"
      ],
      "text/plain": [
       "   e_sp  e_lfanew  FH_char0  FH_char1  FH_char2  FH_char3  FH_char4  FH_char5  \\\n",
       "0   184       256         0         1         0         0         0         0   \n",
       "1   184       184         0         1         1         1         0         0   \n",
       "2   184       272         0         1         0         0         0         0   \n",
       "3   184       184         0         1         0         0         0         0   \n",
       "4   184       224         0         1         0         0         0         0   \n",
       "\n",
       "   FH_char6  FH_char7  ...  sus_sections  non_sus_sections  packer  \\\n",
       "0         0         1  ...             1                 3       0   \n",
       "1         0         1  ...             1                 3       0   \n",
       "2         0         1  ...             1                 4       0   \n",
       "3         0         1  ...             0                 1       0   \n",
       "4         0         1  ...             1                 4       0   \n",
       "\n",
       "   packer_type    E_text    E_data  filesize    E_file  fileinfo  class  \n",
       "0     NoPacker  6.603616  5.443362   1181520  6.627552         1      0  \n",
       "1     NoPacker  5.205926  2.123522      7680  5.318221         0      0  \n",
       "2     NoPacker  6.238000  3.380859     57872  6.507758         1      0  \n",
       "3     NoPacker  0.000000  0.000000     95616  4.575092         1      0  \n",
       "4     NoPacker  6.355626  0.702621     48128  5.545531         1      0  \n",
       "\n",
       "[5 rows x 64 columns]"
      ]
     },
     "execution_count": 101,
     "metadata": {},
     "output_type": "execute_result"
    }
   ],
   "source": [
    "# Peak on the dataset\n",
    "df.head()"
   ]
  },
  {
   "cell_type": "code",
   "execution_count": 102,
   "metadata": {
    "id": "7debc84a",
    "scrolled": true
   },
   "outputs": [],
   "source": [
    "yes,no = df['class'].value_counts()"
   ]
  },
  {
   "cell_type": "code",
   "execution_count": 103,
   "metadata": {
    "colab": {
     "base_uri": "https://localhost:8080/"
    },
    "id": "46a4fd5b",
    "outputId": "d8437cd4-4370-461e-eb82-7aede0bc3ebf"
   },
   "outputs": [
    {
     "name": "stdout",
     "output_type": "stream",
     "text": [
      "2722 2488\n"
     ]
    }
   ],
   "source": [
    "print(yes,no)"
   ]
  },
  {
   "cell_type": "code",
   "execution_count": 104,
   "metadata": {
    "id": "5ed097ef"
   },
   "outputs": [],
   "source": [
    "#No class has less instances"
   ]
  },
  {
   "cell_type": "code",
   "execution_count": 105,
   "metadata": {
    "id": "e613e569"
   },
   "outputs": [],
   "source": [
    "# Encodings Labels so that they are compatible with machine leanring classifiers\n",
    "from sklearn.preprocessing import LabelEncoder\n",
    "le = LabelEncoder()\n",
    "for i in df:\n",
    "    if df[i].dtype=='object':\n",
    "        df[i] = le.fit_transform(df[i])\n",
    "    else:\n",
    "        continue\n",
    "X = df.drop(['class'],axis=1)\n",
    "y = df['class']"
   ]
  },
  {
   "cell_type": "code",
   "execution_count": 106,
   "metadata": {
    "colab": {
     "base_uri": "https://localhost:8080/",
     "height": 268
    },
    "id": "05c2946a",
    "outputId": "e7a4071a-1081-4bd5-c621-0e8483750bad",
    "scrolled": true
   },
   "outputs": [
    {
     "data": {
      "text/html": [
       "<div>\n",
       "<style scoped>\n",
       "    .dataframe tbody tr th:only-of-type {\n",
       "        vertical-align: middle;\n",
       "    }\n",
       "\n",
       "    .dataframe tbody tr th {\n",
       "        vertical-align: top;\n",
       "    }\n",
       "\n",
       "    .dataframe thead th {\n",
       "        text-align: right;\n",
       "    }\n",
       "</style>\n",
       "<table border=\"1\" class=\"dataframe\">\n",
       "  <thead>\n",
       "    <tr style=\"text-align: right;\">\n",
       "      <th></th>\n",
       "      <th>e_sp</th>\n",
       "      <th>e_lfanew</th>\n",
       "      <th>FH_char0</th>\n",
       "      <th>FH_char1</th>\n",
       "      <th>FH_char2</th>\n",
       "      <th>FH_char3</th>\n",
       "      <th>FH_char4</th>\n",
       "      <th>FH_char5</th>\n",
       "      <th>FH_char6</th>\n",
       "      <th>FH_char7</th>\n",
       "      <th>...</th>\n",
       "      <th>sus_sections</th>\n",
       "      <th>non_sus_sections</th>\n",
       "      <th>packer</th>\n",
       "      <th>packer_type</th>\n",
       "      <th>E_text</th>\n",
       "      <th>E_data</th>\n",
       "      <th>filesize</th>\n",
       "      <th>E_file</th>\n",
       "      <th>fileinfo</th>\n",
       "      <th>class</th>\n",
       "    </tr>\n",
       "  </thead>\n",
       "  <tbody>\n",
       "    <tr>\n",
       "      <th>0</th>\n",
       "      <td>184</td>\n",
       "      <td>256</td>\n",
       "      <td>0</td>\n",
       "      <td>1</td>\n",
       "      <td>0</td>\n",
       "      <td>0</td>\n",
       "      <td>0</td>\n",
       "      <td>0</td>\n",
       "      <td>0</td>\n",
       "      <td>1</td>\n",
       "      <td>...</td>\n",
       "      <td>1</td>\n",
       "      <td>3</td>\n",
       "      <td>0</td>\n",
       "      <td>18</td>\n",
       "      <td>6.603616</td>\n",
       "      <td>5.443362</td>\n",
       "      <td>1181520</td>\n",
       "      <td>6.627552</td>\n",
       "      <td>1</td>\n",
       "      <td>0</td>\n",
       "    </tr>\n",
       "    <tr>\n",
       "      <th>1</th>\n",
       "      <td>184</td>\n",
       "      <td>184</td>\n",
       "      <td>0</td>\n",
       "      <td>1</td>\n",
       "      <td>1</td>\n",
       "      <td>1</td>\n",
       "      <td>0</td>\n",
       "      <td>0</td>\n",
       "      <td>0</td>\n",
       "      <td>1</td>\n",
       "      <td>...</td>\n",
       "      <td>1</td>\n",
       "      <td>3</td>\n",
       "      <td>0</td>\n",
       "      <td>18</td>\n",
       "      <td>5.205926</td>\n",
       "      <td>2.123522</td>\n",
       "      <td>7680</td>\n",
       "      <td>5.318221</td>\n",
       "      <td>0</td>\n",
       "      <td>0</td>\n",
       "    </tr>\n",
       "    <tr>\n",
       "      <th>2</th>\n",
       "      <td>184</td>\n",
       "      <td>272</td>\n",
       "      <td>0</td>\n",
       "      <td>1</td>\n",
       "      <td>0</td>\n",
       "      <td>0</td>\n",
       "      <td>0</td>\n",
       "      <td>0</td>\n",
       "      <td>0</td>\n",
       "      <td>1</td>\n",
       "      <td>...</td>\n",
       "      <td>1</td>\n",
       "      <td>4</td>\n",
       "      <td>0</td>\n",
       "      <td>18</td>\n",
       "      <td>6.238000</td>\n",
       "      <td>3.380859</td>\n",
       "      <td>57872</td>\n",
       "      <td>6.507758</td>\n",
       "      <td>1</td>\n",
       "      <td>0</td>\n",
       "    </tr>\n",
       "    <tr>\n",
       "      <th>3</th>\n",
       "      <td>184</td>\n",
       "      <td>184</td>\n",
       "      <td>0</td>\n",
       "      <td>1</td>\n",
       "      <td>0</td>\n",
       "      <td>0</td>\n",
       "      <td>0</td>\n",
       "      <td>0</td>\n",
       "      <td>0</td>\n",
       "      <td>1</td>\n",
       "      <td>...</td>\n",
       "      <td>0</td>\n",
       "      <td>1</td>\n",
       "      <td>0</td>\n",
       "      <td>18</td>\n",
       "      <td>0.000000</td>\n",
       "      <td>0.000000</td>\n",
       "      <td>95616</td>\n",
       "      <td>4.575092</td>\n",
       "      <td>1</td>\n",
       "      <td>0</td>\n",
       "    </tr>\n",
       "    <tr>\n",
       "      <th>4</th>\n",
       "      <td>184</td>\n",
       "      <td>224</td>\n",
       "      <td>0</td>\n",
       "      <td>1</td>\n",
       "      <td>0</td>\n",
       "      <td>0</td>\n",
       "      <td>0</td>\n",
       "      <td>0</td>\n",
       "      <td>0</td>\n",
       "      <td>1</td>\n",
       "      <td>...</td>\n",
       "      <td>1</td>\n",
       "      <td>4</td>\n",
       "      <td>0</td>\n",
       "      <td>18</td>\n",
       "      <td>6.355626</td>\n",
       "      <td>0.702621</td>\n",
       "      <td>48128</td>\n",
       "      <td>5.545531</td>\n",
       "      <td>1</td>\n",
       "      <td>0</td>\n",
       "    </tr>\n",
       "  </tbody>\n",
       "</table>\n",
       "<p>5 rows × 64 columns</p>\n",
       "</div>"
      ],
      "text/plain": [
       "   e_sp  e_lfanew  FH_char0  FH_char1  FH_char2  FH_char3  FH_char4  FH_char5  \\\n",
       "0   184       256         0         1         0         0         0         0   \n",
       "1   184       184         0         1         1         1         0         0   \n",
       "2   184       272         0         1         0         0         0         0   \n",
       "3   184       184         0         1         0         0         0         0   \n",
       "4   184       224         0         1         0         0         0         0   \n",
       "\n",
       "   FH_char6  FH_char7  ...  sus_sections  non_sus_sections  packer  \\\n",
       "0         0         1  ...             1                 3       0   \n",
       "1         0         1  ...             1                 3       0   \n",
       "2         0         1  ...             1                 4       0   \n",
       "3         0         1  ...             0                 1       0   \n",
       "4         0         1  ...             1                 4       0   \n",
       "\n",
       "   packer_type    E_text    E_data  filesize    E_file  fileinfo  class  \n",
       "0           18  6.603616  5.443362   1181520  6.627552         1      0  \n",
       "1           18  5.205926  2.123522      7680  5.318221         0      0  \n",
       "2           18  6.238000  3.380859     57872  6.507758         1      0  \n",
       "3           18  0.000000  0.000000     95616  4.575092         1      0  \n",
       "4           18  6.355626  0.702621     48128  5.545531         1      0  \n",
       "\n",
       "[5 rows x 64 columns]"
      ]
     },
     "execution_count": 106,
     "metadata": {},
     "output_type": "execute_result"
    }
   ],
   "source": [
    "# Now check the features for the feature column \"Packer_type\". They are converted fr\n",
    "df.head()"
   ]
  },
  {
   "cell_type": "code",
   "execution_count": 107,
   "metadata": {
    "id": "16db7024"
   },
   "outputs": [],
   "source": [
    "# Scaling data. Default scaling is to scale the data to unit variance (or equivalent\n",
    "mms = MinMaxScaler()\n",
    "X = mms.fit_transform(X)\n",
    "X = torch.tensor(X, dtype=torch.float)\n",
    "y = torch.tensor(y, dtype=torch.float)"
   ]
  },
  {
   "cell_type": "code",
   "execution_count": 108,
   "metadata": {
    "id": "wkIpBmE8O5eY"
   },
   "outputs": [],
   "source": [
    "class Encoder(nn.Module):\n",
    "  def __init__(self):\n",
    "    current_dims = 63\n",
    "    encoded_dims = 15\n",
    "    super().__init__()\n",
    "    self.encoder = nn.Sequential(\n",
    "        #N, 63\n",
    "        nn.Linear(current_dims, current_dims*2),\n",
    "        nn.BatchNorm1d(current_dims*2),\n",
    "        nn.LeakyReLU(),\n",
    "        nn.Linear(current_dims*2, current_dims),\n",
    "        nn.BatchNorm1d(current_dims),\n",
    "        nn.LeakyReLU(),\n",
    "        nn.Linear(current_dims,encoded_dims),\n",
    "    )\n",
    "\n",
    "  def forward(self, x):\n",
    "    encoded = self.encoder(x)\n",
    "    return encoded"
   ]
  },
  {
   "cell_type": "code",
   "execution_count": 109,
   "metadata": {
    "colab": {
     "base_uri": "https://localhost:8080/"
    },
    "id": "5scxnVg5Djzg",
    "outputId": "b409db96-4d95-4869-f59b-29ca16cb986a"
   },
   "outputs": [
    {
     "data": {
      "text/plain": [
       "Encoder(\n",
       "  (encoder): Sequential(\n",
       "    (0): Linear(in_features=63, out_features=126, bias=True)\n",
       "    (1): BatchNorm1d(126, eps=1e-05, momentum=0.1, affine=True, track_running_stats=True)\n",
       "    (2): LeakyReLU(negative_slope=0.01)\n",
       "    (3): Linear(in_features=126, out_features=63, bias=True)\n",
       "    (4): BatchNorm1d(63, eps=1e-05, momentum=0.1, affine=True, track_running_stats=True)\n",
       "    (5): LeakyReLU(negative_slope=0.01)\n",
       "    (6): Linear(in_features=63, out_features=15, bias=True)\n",
       "  )\n",
       ")"
      ]
     },
     "execution_count": 109,
     "metadata": {},
     "output_type": "execute_result"
    }
   ],
   "source": [
    "encoder = Encoder()\n",
    "encoder.load_state_dict(torch.load('encoder.pt'))\n",
    "encoder.eval()"
   ]
  },
  {
   "cell_type": "code",
   "execution_count": 110,
   "metadata": {
    "id": "YiDHxPyiEgpS"
   },
   "outputs": [],
   "source": [
    "X = encoder(X)"
   ]
  },
  {
   "cell_type": "code",
   "execution_count": 111,
   "metadata": {
    "id": "aRSYJPfAD5X0"
   },
   "outputs": [],
   "source": [
    "#mms = MinMaxScaler(feature_range = (-1,1))\n",
    "#X = torch.tensor(mms.fit_transform(encoded_X.detach().numpy()))"
   ]
  },
  {
   "cell_type": "code",
   "execution_count": 112,
   "metadata": {
    "colab": {
     "base_uri": "https://localhost:8080/"
    },
    "id": "FBs34QCfavgg",
    "outputId": "c7dc7792-7950-4bb9-d3af-f27a76c34083"
   },
   "outputs": [
    {
     "name": "stdout",
     "output_type": "stream",
     "text": [
      "tensor(-10.4013, grad_fn=<MinBackward1>) tensor(9.1075, grad_fn=<MaxBackward1>)\n"
     ]
    }
   ],
   "source": [
    "print(X.min(), X.max())"
   ]
  },
  {
   "cell_type": "markdown",
   "metadata": {
    "id": "gOusF3C4NY7x"
   },
   "source": [
    "#### **Since we need to perform augmentation for \"No Malware\"**"
   ]
  },
  {
   "cell_type": "code",
   "execution_count": 113,
   "metadata": {
    "colab": {
     "base_uri": "https://localhost:8080/"
    },
    "id": "bVW6L-X9-ts1",
    "outputId": "7fe9f003-0877-4300-b856-7a7561fecb71"
   },
   "outputs": [
    {
     "data": {
      "text/plain": [
       "(tensor(9.1075), tensor(-10.4013))"
      ]
     },
     "execution_count": 113,
     "metadata": {},
     "output_type": "execute_result"
    }
   ],
   "source": [
    "encoded_X.max(), encoded_X.min()"
   ]
  },
  {
   "cell_type": "markdown",
   "metadata": {
    "id": "e1cbd743"
   },
   "source": [
    "## MLP Classifier on encoded data"
   ]
  },
  {
   "cell_type": "code",
   "execution_count": 114,
   "metadata": {
    "id": "dqVRcsv-8CWc"
   },
   "outputs": [],
   "source": [
    "class Generator(nn.Module):\n",
    "  z_dim = 64\n",
    "  data_dim = 15\n",
    "  def __init__(self, z_dim = z_dim, data_dim = data_dim):\n",
    "    super().__init__()\n",
    "    self.gen = nn.Sequential(\n",
    "        nn.Linear(z_dim, 128),\n",
    "        nn.BatchNorm1d(128),\n",
    "        nn.ReLU(),\n",
    "        nn.Linear(128, 128),\n",
    "        nn.BatchNorm1d(128),\n",
    "        nn.ReLU(),\n",
    "        nn.Linear(128, data_dim),\n",
    "        nn.BatchNorm1d(data_dim)\n",
    "    )\n",
    "\n",
    "  def forward(self, x):\n",
    "    return self.gen(x)"
   ]
  },
  {
   "cell_type": "code",
   "execution_count": 115,
   "metadata": {
    "id": "RGr5dhQt8DuZ"
   },
   "outputs": [],
   "source": [
    "gen = Generator()\n",
    "gen.load_state_dict(torch.load(\"gan.pt\"))\n",
    "_ = gen.eval()\n",
    "with torch.no_grad():\n",
    "  out = gen(torch.randn(yes-no, gen.z_dim))\n",
    "encoded_X = torch.cat((X,out)).detach()\n",
    "y = torch.cat((y,torch.zeros(yes-no))).detach()"
   ]
  },
  {
   "cell_type": "code",
   "execution_count": 116,
   "metadata": {
    "id": "37df265e"
   },
   "outputs": [],
   "source": [
    "# Dividing data into training, testing and validation\n",
    "from sklearn.model_selection import train_test_split\n",
    "X_train, X_test, y_train, y_test = train_test_split(encoded_X, y, test_size=0.2, random_state=1)\n",
    "X_train, X_val, y_train, y_val = train_test_split(X_train, y_train, test_size=0.05, random_state=1)"
   ]
  },
  {
   "cell_type": "code",
   "execution_count": 117,
   "metadata": {
    "id": "hmlFLVIHXbAj"
   },
   "outputs": [],
   "source": [
    "pt_train = TensorDataset(X_train, y_train)\n",
    "pt_train = DataLoader(pt_train, batch_size = 64)"
   ]
  },
  {
   "cell_type": "code",
   "execution_count": 118,
   "metadata": {
    "id": "rjAeIyUgXE9o"
   },
   "outputs": [],
   "source": [
    "class MLP(nn.Module):\n",
    "  def __init__(self):\n",
    "    super(MLP, self).__init__()\n",
    "    self.model = nn.Sequential(\n",
    "        nn.Linear(15, 128),\n",
    "        nn.ReLU(),\n",
    "        nn.Linear(128, 64),\n",
    "        nn.ReLU(),\n",
    "        nn.Linear(64, 15),\n",
    "        nn.ReLU()\n",
    "    )\n",
    "    self.clf = nn.Sequential(\n",
    "        nn.Linear(15, 1),\n",
    "        nn.Sigmoid()\n",
    "    )\n",
    "  def forward(self, x):\n",
    "      output = self.model(x)\n",
    "      return self.clf(output)"
   ]
  },
  {
   "cell_type": "code",
   "execution_count": 119,
   "metadata": {
    "id": "Cm1MHv41YIr6"
   },
   "outputs": [],
   "source": [
    "mlp = MLP()\n",
    "epochs = 100\n",
    "lr = 4e-3\n",
    "optimizer = torch.optim.Adam(mlp.parameters(), lr = lr)\n",
    "criterion = nn.BCELoss()"
   ]
  },
  {
   "cell_type": "code",
   "execution_count": 120,
   "metadata": {
    "colab": {
     "base_uri": "https://localhost:8080/"
    },
    "id": "r9qCM2OzYkn3",
    "outputId": "bee31ea6-deed-4308-81a8-19351d8a087b"
   },
   "outputs": [
    {
     "name": "stdout",
     "output_type": "stream",
     "text": [
      "Epoch [1/100] \\ Loss: 0.6762327551841736\n",
      "Epoch [2/100] \\ Loss: 0.16433466970920563\n",
      "Epoch [3/100] \\ Loss: 0.15487566590309143\n",
      "Epoch [4/100] \\ Loss: 0.1351594775915146\n",
      "Epoch [5/100] \\ Loss: 0.11652784794569016\n",
      "Epoch [6/100] \\ Loss: 0.10717907547950745\n",
      "Epoch [7/100] \\ Loss: 0.10674626380205154\n",
      "Epoch [8/100] \\ Loss: 0.08113283663988113\n",
      "Epoch [9/100] \\ Loss: 0.0975899025797844\n",
      "Epoch [10/100] \\ Loss: 0.08927182853221893\n",
      "Epoch [11/100] \\ Loss: 0.16844059526920319\n",
      "Epoch [12/100] \\ Loss: 0.07781679183244705\n",
      "Epoch [13/100] \\ Loss: 0.07886338979005814\n",
      "Epoch [14/100] \\ Loss: 0.0930674821138382\n",
      "Epoch [15/100] \\ Loss: 0.09518515318632126\n",
      "Epoch [16/100] \\ Loss: 0.09594622999429703\n",
      "Epoch [17/100] \\ Loss: 0.1434658020734787\n",
      "Epoch [18/100] \\ Loss: 0.10337398201227188\n",
      "Epoch [19/100] \\ Loss: 0.06356049329042435\n",
      "Epoch [20/100] \\ Loss: 0.09258898347616196\n",
      "Epoch [21/100] \\ Loss: 0.11674833297729492\n",
      "Epoch [22/100] \\ Loss: 0.07237895578145981\n",
      "Epoch [23/100] \\ Loss: 0.06396138668060303\n",
      "Epoch [24/100] \\ Loss: 0.06651867181062698\n",
      "Epoch [25/100] \\ Loss: 0.06875848770141602\n",
      "Epoch [26/100] \\ Loss: 0.061579495668411255\n",
      "Epoch [27/100] \\ Loss: 0.06179523840546608\n",
      "Epoch [28/100] \\ Loss: 0.05686720833182335\n",
      "Epoch [29/100] \\ Loss: 0.04862279072403908\n",
      "Epoch [30/100] \\ Loss: 0.04676566272974014\n",
      "Epoch [31/100] \\ Loss: 0.048715848475694656\n",
      "Epoch [32/100] \\ Loss: 0.04795554280281067\n",
      "Epoch [33/100] \\ Loss: 0.04818881303071976\n",
      "Epoch [34/100] \\ Loss: 0.0443359836935997\n",
      "Epoch [35/100] \\ Loss: 0.07523547112941742\n",
      "Epoch [36/100] \\ Loss: 0.10928351432085037\n",
      "Epoch [37/100] \\ Loss: 0.08821994811296463\n",
      "Epoch [38/100] \\ Loss: 0.05867060273885727\n",
      "Epoch [39/100] \\ Loss: 0.05159292742609978\n",
      "Epoch [40/100] \\ Loss: 0.04745025187730789\n",
      "Epoch [41/100] \\ Loss: 0.03869131579995155\n",
      "Epoch [42/100] \\ Loss: 0.04396514967083931\n",
      "Epoch [43/100] \\ Loss: 0.03322653844952583\n",
      "Epoch [44/100] \\ Loss: 0.039318107068538666\n",
      "Epoch [45/100] \\ Loss: 0.03390485793352127\n",
      "Epoch [46/100] \\ Loss: 0.03460703417658806\n",
      "Epoch [47/100] \\ Loss: 0.03228088095784187\n",
      "Epoch [48/100] \\ Loss: 0.03565942123532295\n",
      "Epoch [49/100] \\ Loss: 0.0331769734621048\n",
      "Epoch [50/100] \\ Loss: 0.02856481447815895\n",
      "Epoch [51/100] \\ Loss: 0.027051366865634918\n",
      "Epoch [52/100] \\ Loss: 0.028084732592105865\n",
      "Epoch [53/100] \\ Loss: 0.028252409771084785\n",
      "Epoch [54/100] \\ Loss: 0.031750015914440155\n",
      "Epoch [55/100] \\ Loss: 0.03504608944058418\n",
      "Epoch [56/100] \\ Loss: 0.08560273051261902\n",
      "Epoch [57/100] \\ Loss: 0.053466424345970154\n",
      "Epoch [58/100] \\ Loss: 0.03859225660562515\n",
      "Epoch [59/100] \\ Loss: 0.027572406455874443\n",
      "Epoch [60/100] \\ Loss: 0.0348338782787323\n",
      "Epoch [61/100] \\ Loss: 0.02789328061044216\n",
      "Epoch [62/100] \\ Loss: 0.02684575505554676\n",
      "Epoch [63/100] \\ Loss: 0.025554558262228966\n",
      "Epoch [64/100] \\ Loss: 0.023179301992058754\n",
      "Epoch [65/100] \\ Loss: 0.025451291352510452\n",
      "Epoch [66/100] \\ Loss: 0.025476934388279915\n",
      "Epoch [67/100] \\ Loss: 0.023839162662625313\n",
      "Epoch [68/100] \\ Loss: 0.02333838678896427\n",
      "Epoch [69/100] \\ Loss: 0.023399515077471733\n",
      "Epoch [70/100] \\ Loss: 0.021119287237524986\n",
      "Epoch [71/100] \\ Loss: 0.023444896563887596\n",
      "Epoch [72/100] \\ Loss: 0.021571867167949677\n",
      "Epoch [73/100] \\ Loss: 0.022165408357977867\n",
      "Epoch [74/100] \\ Loss: 0.02092444710433483\n",
      "Epoch [75/100] \\ Loss: 0.0232889074832201\n",
      "Epoch [76/100] \\ Loss: 0.021060094237327576\n",
      "Epoch [77/100] \\ Loss: 0.021832376718521118\n",
      "Epoch [78/100] \\ Loss: 0.022649629041552544\n",
      "Epoch [79/100] \\ Loss: 0.020998366177082062\n",
      "Epoch [80/100] \\ Loss: 0.06309780478477478\n",
      "Epoch [81/100] \\ Loss: 0.027944393455982208\n",
      "Epoch [82/100] \\ Loss: 0.2560415267944336\n",
      "Epoch [83/100] \\ Loss: 0.041347552090883255\n",
      "Epoch [84/100] \\ Loss: 0.0371146984398365\n",
      "Epoch [85/100] \\ Loss: 0.05284186080098152\n",
      "Epoch [86/100] \\ Loss: 0.027639007195830345\n",
      "Epoch [87/100] \\ Loss: 0.022769564762711525\n",
      "Epoch [88/100] \\ Loss: 0.02489311434328556\n",
      "Epoch [89/100] \\ Loss: 0.02191043645143509\n",
      "Epoch [90/100] \\ Loss: 0.02389826811850071\n",
      "Epoch [91/100] \\ Loss: 0.02404528297483921\n",
      "Epoch [92/100] \\ Loss: 0.020961444824934006\n",
      "Epoch [93/100] \\ Loss: 0.02129170298576355\n",
      "Epoch [94/100] \\ Loss: 0.021093595772981644\n",
      "Epoch [95/100] \\ Loss: 0.021613579243421555\n",
      "Epoch [96/100] \\ Loss: 0.022184062749147415\n",
      "Epoch [97/100] \\ Loss: 0.02270348370075226\n",
      "Epoch [98/100] \\ Loss: 0.018070297315716743\n",
      "Epoch [99/100] \\ Loss: 0.01906575821340084\n",
      "Epoch [100/100] \\ Loss: 0.020269662141799927\n"
     ]
    }
   ],
   "source": [
    "import time\n",
    "start = time.time()\n",
    "losses = []\n",
    "for epoch in range(epochs):\n",
    "  for batch_idx, (x, target) in enumerate(pt_train):\n",
    "    output = mlp(x)\n",
    "    loss = criterion(output, target.view(-1,1))\n",
    "    optimizer.zero_grad()\n",
    "    loss.backward()\n",
    "    optimizer.step()\n",
    "    if batch_idx == 0:\n",
    "      print(\n",
    "          f\"Epoch [{epoch+1}/{epochs}] \\ \"\n",
    "          f\"Loss: {loss.item()}\"\n",
    "      ) \n",
    "  losses.append(loss.item())\n",
    "end = time.time()"
   ]
  },
  {
   "cell_type": "code",
   "execution_count": 121,
   "metadata": {
    "colab": {
     "base_uri": "https://localhost:8080/"
    },
    "id": "0z7UUiPHNowi",
    "outputId": "a53f17a9-9733-4887-fd36-33b1abb50ede"
   },
   "outputs": [
    {
     "name": "stdout",
     "output_type": "stream",
     "text": [
      "Took 18.30 seconds to train \n"
     ]
    }
   ],
   "source": [
    "print(f\"Took {end-start:.2f} seconds to train \")"
   ]
  },
  {
   "cell_type": "code",
   "execution_count": 122,
   "metadata": {
    "colab": {
     "base_uri": "https://localhost:8080/",
     "height": 269
    },
    "id": "4EMsEsIexoIw",
    "outputId": "90d939e5-6d79-429d-fcf7-306b55bca56d"
   },
   "outputs": [
    {
     "data": {
      "image/png": "[encoded data removed]",
      "text/plain": [
       "<Figure size 432x288 with 1 Axes>"
      ]
     },
     "metadata": {
      "needs_background": "light"
     },
     "output_type": "display_data"
    }
   ],
   "source": [
    "_ = plt.plot(losses)"
   ]
  },
  {
   "cell_type": "code",
   "execution_count": 123,
   "metadata": {
    "id": "CIbnhN5LiPdO"
   },
   "outputs": [],
   "source": [
    "_ = mlp.eval()"
   ]
  },
  {
   "cell_type": "code",
   "execution_count": 124,
   "metadata": {
    "id": "04HrTyjSiRUj"
   },
   "outputs": [],
   "source": [
    "with torch.no_grad():\n",
    "  lr_probs_1 = mlp(X_test).squeeze()\n",
    "  ml_pred = lr_probs_1.round()"
   ]
  },
  {
   "cell_type": "code",
   "execution_count": 125,
   "metadata": {
    "colab": {
     "base_uri": "https://localhost:8080/"
    },
    "id": "4516bf95",
    "outputId": "4c173547-05d5-45f3-8abd-d16749f9cef7"
   },
   "outputs": [
    {
     "name": "stdout",
     "output_type": "stream",
     "text": [
      "Test accuracy is:0.9660\n",
      "Precision: 0.9629 Recall: 0.9683\n"
     ]
    }
   ],
   "source": [
    "from sklearn.metrics import confusion_matrix\n",
    "cm = confusion_matrix(y_test, ml_pred)\n",
    "tn=cm[0][0] #tn\n",
    "fn=cm[0][1] #fn\n",
    "fp=cm[1][0] #fp\n",
    "tp=cm[1][1] #tp\n",
    "acc= (tp+tn)/(tp+tn+fn+fp)\n",
    "epsilon = 1e-7 # is used so that to avoid divide by zero error\n",
    "precision = tp / (tp + fp + epsilon)\n",
    "recall = tp / (tp + fn + epsilon)\n",
    "sensitivity,specificity = tp/(tp+fn),tn/(tn+fp)\n",
    "print(\"Test accuracy is:\"+str(format(acc,'.4f')))\n",
    "print(\"Precision: \"+str(format(precision,'.4f'))+\" Recall: \"+str(format(recall,'.4f')))"
   ]
  },
  {
   "cell_type": "code",
   "execution_count": 126,
   "metadata": {
    "colab": {
     "base_uri": "https://localhost:8080/",
     "height": 592
    },
    "id": "fWmf_H_mqBAS",
    "outputId": "09dc1545-59d2-4ccb-b53b-39dd9bb73207"
   },
   "outputs": [
    {
     "data": {
      "image/png": "[encoded data removed]",
      "text/plain": [
       "<Figure size 432x288 with 1 Axes>"
      ]
     },
     "metadata": {
      "needs_background": "light"
     },
     "output_type": "display_data"
    },
    {
     "name": "stdout",
     "output_type": "stream",
     "text": [
      "F1: 0.9655813953488371\n",
      "AUC: 0.9888833210692428\n",
      "Accuracy 0.9660238751147842\n"
     ]
    },
    {
     "data": {
      "image/png": "[encoded data removed]",
      "text/plain": [
       "<Figure size 432x288 with 1 Axes>"
      ]
     },
     "metadata": {
      "needs_background": "light"
     },
     "output_type": "display_data"
    }
   ],
   "source": [
    "from sklearn.metrics import auc\n",
    "from sklearn.metrics import accuracy_score\n",
    "import matplotlib.pyplot as plt\n",
    "lr_precision, lr_recall, _ = precision_recall_curve(y_test, lr_probs_1)\n",
    "lr_f1, lr_auc = f1_score(y_test, ml_pred), auc(lr_recall, lr_precision)\n",
    "no_skill = len(y_test[y_test==1]) / len(y_test)\n",
    "acc = accuracy_score(y_test, ml_pred)\n",
    "plt.plot([0, 1], [no_skill, no_skill], linestyle='--', label='No Skill', c = \"blue\")\n",
    "plt.plot(lr_recall, lr_precision, marker='.', label='Logistic', c = \"orange\")\n",
    "# axis labels\n",
    "plt.xlabel('Recall')\n",
    "plt.ylabel('Precision')\n",
    "# show the legend\n",
    "plt.legend()\n",
    "# show the plot\n",
    "plt.show()\n",
    "print(\"F1:\",lr_f1)\n",
    "print(\"AUC:\",lr_auc)\n",
    "print(\"Accuracy\",acc)\n",
    "disp = ConfusionMatrixDisplay(confusion_matrix = cm)\n",
    "_ = disp.plot(cmap=\"copper\", colorbar = False)"
   ]
  },
  {
   "cell_type": "code",
   "execution_count": 127,
   "metadata": {
    "id": "7tI2BqbX5tx2"
   },
   "outputs": [],
   "source": [
    "torch.save(mlp.state_dict(), \"mlp_5.pt\")"
   ]
  },
  {
   "cell_type": "code",
   "execution_count": 128,
   "metadata": {
    "id": "zusokaDg6Avw"
   },
   "outputs": [],
   "source": [
    "torch.save(gen.state_dict(),\"gan.pt\")"
   ]
  }
 ],
 "metadata": {
  "colab": {
   "collapsed_sections": [],
   "name": "MLP using Pytorch on Malware Analysis.ipynb",
   "provenance": []
  },
  "kernelspec": {
   "display_name": "Python 3 (ipykernel)",
   "language": "python",
   "name": "python3"
  },
  "language_info": {
   "codemirror_mode": {
    "name": "ipython",
    "version": 3
   },
   "file_extension": ".py",
   "mimetype": "text/x-python",
   "name": "python",
   "nbconvert_exporter": "python",
   "pygments_lexer": "ipython3",
   "version": "3.8.10"
  }
 },
 "nbformat": 4,
 "nbformat_minor": 1
}
