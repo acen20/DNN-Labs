{
 "cells": [
  {
   "cell_type": "code",
   "execution_count": 223,
   "id": "49b90d1e",
   "metadata": {},
   "outputs": [],
   "source": [
    "from sklearn.metrics import precision_recall_curve\n",
    "from matplotlib import pyplot\n",
    "from sklearn.metrics import f1_score\n",
    "from sklearn.metrics import plot_confusion_matrix\n",
    "from sklearn.model_selection import cross_val_score"
   ]
  },
  {
   "cell_type": "code",
   "execution_count": 188,
   "id": "929c5c3c",
   "metadata": {},
   "outputs": [],
   "source": [
    "import pandas as pd # data processing, CSV file I/O (e.g. pd.read_csv)\n",
    "# Loading Dataset\n",
    "# Dataset link: https://data.mendeley.com/datasets/xvyv59vwvz/1\n",
    "# Dataset is present in the current directory containing the code file.\n",
    "df=pd.read_csv('../Datasets/ClaMP_Integrated-5184.csv')"
   ]
  },
  {
   "cell_type": "markdown",
   "id": "5b488c60",
   "metadata": {},
   "source": [
    "## Preprocessing"
   ]
  },
  {
   "cell_type": "code",
   "execution_count": 189,
   "id": "e919a469",
   "metadata": {
    "scrolled": true
   },
   "outputs": [
    {
     "data": {
      "text/html": [
       "<div>\n",
       "<style scoped>\n",
       "    .dataframe tbody tr th:only-of-type {\n",
       "        vertical-align: middle;\n",
       "    }\n",
       "\n",
       "    .dataframe tbody tr th {\n",
       "        vertical-align: top;\n",
       "    }\n",
       "\n",
       "    .dataframe thead th {\n",
       "        text-align: right;\n",
       "    }\n",
       "</style>\n",
       "<table border=\"1\" class=\"dataframe\">\n",
       "  <thead>\n",
       "    <tr style=\"text-align: right;\">\n",
       "      <th></th>\n",
       "      <th>e_cblp</th>\n",
       "      <th>e_cp</th>\n",
       "      <th>e_cparhdr</th>\n",
       "      <th>e_maxalloc</th>\n",
       "      <th>e_sp</th>\n",
       "      <th>e_lfanew</th>\n",
       "      <th>NumberOfSections</th>\n",
       "      <th>CreationYear</th>\n",
       "      <th>FH_char0</th>\n",
       "      <th>FH_char1</th>\n",
       "      <th>...</th>\n",
       "      <th>sus_sections</th>\n",
       "      <th>non_sus_sections</th>\n",
       "      <th>packer</th>\n",
       "      <th>packer_type</th>\n",
       "      <th>E_text</th>\n",
       "      <th>E_data</th>\n",
       "      <th>filesize</th>\n",
       "      <th>E_file</th>\n",
       "      <th>fileinfo</th>\n",
       "      <th>class</th>\n",
       "    </tr>\n",
       "  </thead>\n",
       "  <tbody>\n",
       "    <tr>\n",
       "      <th>0</th>\n",
       "      <td>144</td>\n",
       "      <td>3</td>\n",
       "      <td>4</td>\n",
       "      <td>65535</td>\n",
       "      <td>184</td>\n",
       "      <td>256</td>\n",
       "      <td>4</td>\n",
       "      <td>1</td>\n",
       "      <td>0</td>\n",
       "      <td>1</td>\n",
       "      <td>...</td>\n",
       "      <td>1</td>\n",
       "      <td>3</td>\n",
       "      <td>0</td>\n",
       "      <td>NoPacker</td>\n",
       "      <td>6.603616</td>\n",
       "      <td>5.443362</td>\n",
       "      <td>1181520</td>\n",
       "      <td>6.627552</td>\n",
       "      <td>1</td>\n",
       "      <td>0</td>\n",
       "    </tr>\n",
       "    <tr>\n",
       "      <th>1</th>\n",
       "      <td>144</td>\n",
       "      <td>3</td>\n",
       "      <td>4</td>\n",
       "      <td>65535</td>\n",
       "      <td>184</td>\n",
       "      <td>184</td>\n",
       "      <td>4</td>\n",
       "      <td>1</td>\n",
       "      <td>0</td>\n",
       "      <td>1</td>\n",
       "      <td>...</td>\n",
       "      <td>1</td>\n",
       "      <td>3</td>\n",
       "      <td>0</td>\n",
       "      <td>NoPacker</td>\n",
       "      <td>5.205926</td>\n",
       "      <td>2.123522</td>\n",
       "      <td>7680</td>\n",
       "      <td>5.318221</td>\n",
       "      <td>0</td>\n",
       "      <td>0</td>\n",
       "    </tr>\n",
       "    <tr>\n",
       "      <th>2</th>\n",
       "      <td>144</td>\n",
       "      <td>3</td>\n",
       "      <td>4</td>\n",
       "      <td>65535</td>\n",
       "      <td>184</td>\n",
       "      <td>272</td>\n",
       "      <td>5</td>\n",
       "      <td>1</td>\n",
       "      <td>0</td>\n",
       "      <td>1</td>\n",
       "      <td>...</td>\n",
       "      <td>1</td>\n",
       "      <td>4</td>\n",
       "      <td>0</td>\n",
       "      <td>NoPacker</td>\n",
       "      <td>6.238000</td>\n",
       "      <td>3.380859</td>\n",
       "      <td>57872</td>\n",
       "      <td>6.507758</td>\n",
       "      <td>1</td>\n",
       "      <td>0</td>\n",
       "    </tr>\n",
       "    <tr>\n",
       "      <th>3</th>\n",
       "      <td>144</td>\n",
       "      <td>3</td>\n",
       "      <td>4</td>\n",
       "      <td>65535</td>\n",
       "      <td>184</td>\n",
       "      <td>184</td>\n",
       "      <td>1</td>\n",
       "      <td>1</td>\n",
       "      <td>0</td>\n",
       "      <td>1</td>\n",
       "      <td>...</td>\n",
       "      <td>0</td>\n",
       "      <td>1</td>\n",
       "      <td>0</td>\n",
       "      <td>NoPacker</td>\n",
       "      <td>0.000000</td>\n",
       "      <td>0.000000</td>\n",
       "      <td>95616</td>\n",
       "      <td>4.575092</td>\n",
       "      <td>1</td>\n",
       "      <td>0</td>\n",
       "    </tr>\n",
       "    <tr>\n",
       "      <th>4</th>\n",
       "      <td>144</td>\n",
       "      <td>3</td>\n",
       "      <td>4</td>\n",
       "      <td>65535</td>\n",
       "      <td>184</td>\n",
       "      <td>224</td>\n",
       "      <td>5</td>\n",
       "      <td>1</td>\n",
       "      <td>0</td>\n",
       "      <td>1</td>\n",
       "      <td>...</td>\n",
       "      <td>1</td>\n",
       "      <td>4</td>\n",
       "      <td>0</td>\n",
       "      <td>NoPacker</td>\n",
       "      <td>6.355626</td>\n",
       "      <td>0.702621</td>\n",
       "      <td>48128</td>\n",
       "      <td>5.545531</td>\n",
       "      <td>1</td>\n",
       "      <td>0</td>\n",
       "    </tr>\n",
       "  </tbody>\n",
       "</table>\n",
       "<p>5 rows × 70 columns</p>\n",
       "</div>"
      ],
      "text/plain": [
       "   e_cblp  e_cp  e_cparhdr  e_maxalloc  e_sp  e_lfanew  NumberOfSections  \\\n",
       "0     144     3          4       65535   184       256                 4   \n",
       "1     144     3          4       65535   184       184                 4   \n",
       "2     144     3          4       65535   184       272                 5   \n",
       "3     144     3          4       65535   184       184                 1   \n",
       "4     144     3          4       65535   184       224                 5   \n",
       "\n",
       "   CreationYear  FH_char0  FH_char1  ...  sus_sections  non_sus_sections  \\\n",
       "0             1         0         1  ...             1                 3   \n",
       "1             1         0         1  ...             1                 3   \n",
       "2             1         0         1  ...             1                 4   \n",
       "3             1         0         1  ...             0                 1   \n",
       "4             1         0         1  ...             1                 4   \n",
       "\n",
       "   packer  packer_type    E_text    E_data  filesize    E_file  fileinfo  \\\n",
       "0       0     NoPacker  6.603616  5.443362   1181520  6.627552         1   \n",
       "1       0     NoPacker  5.205926  2.123522      7680  5.318221         0   \n",
       "2       0     NoPacker  6.238000  3.380859     57872  6.507758         1   \n",
       "3       0     NoPacker  0.000000  0.000000     95616  4.575092         1   \n",
       "4       0     NoPacker  6.355626  0.702621     48128  5.545531         1   \n",
       "\n",
       "   class  \n",
       "0      0  \n",
       "1      0  \n",
       "2      0  \n",
       "3      0  \n",
       "4      0  \n",
       "\n",
       "[5 rows x 70 columns]"
      ]
     },
     "execution_count": 189,
     "metadata": {},
     "output_type": "execute_result"
    }
   ],
   "source": [
    "df.head()"
   ]
  },
  {
   "cell_type": "code",
   "execution_count": 190,
   "id": "aa639012",
   "metadata": {},
   "outputs": [],
   "source": [
    "# Replacing Null values with 0. ML classifer cannot learn on Null values\n",
    "df.fillna(0, inplace=True)"
   ]
  },
  {
   "cell_type": "code",
   "execution_count": 191,
   "id": "740bf015",
   "metadata": {},
   "outputs": [
    {
     "data": {
      "text/html": [
       "<div>\n",
       "<style scoped>\n",
       "    .dataframe tbody tr th:only-of-type {\n",
       "        vertical-align: middle;\n",
       "    }\n",
       "\n",
       "    .dataframe tbody tr th {\n",
       "        vertical-align: top;\n",
       "    }\n",
       "\n",
       "    .dataframe thead th {\n",
       "        text-align: right;\n",
       "    }\n",
       "</style>\n",
       "<table border=\"1\" class=\"dataframe\">\n",
       "  <thead>\n",
       "    <tr style=\"text-align: right;\">\n",
       "      <th></th>\n",
       "      <th>e_cblp</th>\n",
       "      <th>e_cp</th>\n",
       "      <th>e_cparhdr</th>\n",
       "      <th>e_maxalloc</th>\n",
       "      <th>e_sp</th>\n",
       "      <th>e_lfanew</th>\n",
       "      <th>NumberOfSections</th>\n",
       "      <th>CreationYear</th>\n",
       "      <th>FH_char0</th>\n",
       "      <th>FH_char1</th>\n",
       "      <th>...</th>\n",
       "      <th>sus_sections</th>\n",
       "      <th>non_sus_sections</th>\n",
       "      <th>packer</th>\n",
       "      <th>packer_type</th>\n",
       "      <th>E_text</th>\n",
       "      <th>E_data</th>\n",
       "      <th>filesize</th>\n",
       "      <th>E_file</th>\n",
       "      <th>fileinfo</th>\n",
       "      <th>class</th>\n",
       "    </tr>\n",
       "  </thead>\n",
       "  <tbody>\n",
       "    <tr>\n",
       "      <th>0</th>\n",
       "      <td>144</td>\n",
       "      <td>3</td>\n",
       "      <td>4</td>\n",
       "      <td>65535</td>\n",
       "      <td>184</td>\n",
       "      <td>256</td>\n",
       "      <td>4</td>\n",
       "      <td>1</td>\n",
       "      <td>0</td>\n",
       "      <td>1</td>\n",
       "      <td>...</td>\n",
       "      <td>1</td>\n",
       "      <td>3</td>\n",
       "      <td>0</td>\n",
       "      <td>NoPacker</td>\n",
       "      <td>6.603616</td>\n",
       "      <td>5.443362</td>\n",
       "      <td>1181520</td>\n",
       "      <td>6.627552</td>\n",
       "      <td>1</td>\n",
       "      <td>0</td>\n",
       "    </tr>\n",
       "    <tr>\n",
       "      <th>1</th>\n",
       "      <td>144</td>\n",
       "      <td>3</td>\n",
       "      <td>4</td>\n",
       "      <td>65535</td>\n",
       "      <td>184</td>\n",
       "      <td>184</td>\n",
       "      <td>4</td>\n",
       "      <td>1</td>\n",
       "      <td>0</td>\n",
       "      <td>1</td>\n",
       "      <td>...</td>\n",
       "      <td>1</td>\n",
       "      <td>3</td>\n",
       "      <td>0</td>\n",
       "      <td>NoPacker</td>\n",
       "      <td>5.205926</td>\n",
       "      <td>2.123522</td>\n",
       "      <td>7680</td>\n",
       "      <td>5.318221</td>\n",
       "      <td>0</td>\n",
       "      <td>0</td>\n",
       "    </tr>\n",
       "    <tr>\n",
       "      <th>2</th>\n",
       "      <td>144</td>\n",
       "      <td>3</td>\n",
       "      <td>4</td>\n",
       "      <td>65535</td>\n",
       "      <td>184</td>\n",
       "      <td>272</td>\n",
       "      <td>5</td>\n",
       "      <td>1</td>\n",
       "      <td>0</td>\n",
       "      <td>1</td>\n",
       "      <td>...</td>\n",
       "      <td>1</td>\n",
       "      <td>4</td>\n",
       "      <td>0</td>\n",
       "      <td>NoPacker</td>\n",
       "      <td>6.238000</td>\n",
       "      <td>3.380859</td>\n",
       "      <td>57872</td>\n",
       "      <td>6.507758</td>\n",
       "      <td>1</td>\n",
       "      <td>0</td>\n",
       "    </tr>\n",
       "    <tr>\n",
       "      <th>3</th>\n",
       "      <td>144</td>\n",
       "      <td>3</td>\n",
       "      <td>4</td>\n",
       "      <td>65535</td>\n",
       "      <td>184</td>\n",
       "      <td>184</td>\n",
       "      <td>1</td>\n",
       "      <td>1</td>\n",
       "      <td>0</td>\n",
       "      <td>1</td>\n",
       "      <td>...</td>\n",
       "      <td>0</td>\n",
       "      <td>1</td>\n",
       "      <td>0</td>\n",
       "      <td>NoPacker</td>\n",
       "      <td>0.000000</td>\n",
       "      <td>0.000000</td>\n",
       "      <td>95616</td>\n",
       "      <td>4.575092</td>\n",
       "      <td>1</td>\n",
       "      <td>0</td>\n",
       "    </tr>\n",
       "    <tr>\n",
       "      <th>4</th>\n",
       "      <td>144</td>\n",
       "      <td>3</td>\n",
       "      <td>4</td>\n",
       "      <td>65535</td>\n",
       "      <td>184</td>\n",
       "      <td>224</td>\n",
       "      <td>5</td>\n",
       "      <td>1</td>\n",
       "      <td>0</td>\n",
       "      <td>1</td>\n",
       "      <td>...</td>\n",
       "      <td>1</td>\n",
       "      <td>4</td>\n",
       "      <td>0</td>\n",
       "      <td>NoPacker</td>\n",
       "      <td>6.355626</td>\n",
       "      <td>0.702621</td>\n",
       "      <td>48128</td>\n",
       "      <td>5.545531</td>\n",
       "      <td>1</td>\n",
       "      <td>0</td>\n",
       "    </tr>\n",
       "  </tbody>\n",
       "</table>\n",
       "<p>5 rows × 70 columns</p>\n",
       "</div>"
      ],
      "text/plain": [
       "   e_cblp  e_cp  e_cparhdr  e_maxalloc  e_sp  e_lfanew  NumberOfSections  \\\n",
       "0     144     3          4       65535   184       256                 4   \n",
       "1     144     3          4       65535   184       184                 4   \n",
       "2     144     3          4       65535   184       272                 5   \n",
       "3     144     3          4       65535   184       184                 1   \n",
       "4     144     3          4       65535   184       224                 5   \n",
       "\n",
       "   CreationYear  FH_char0  FH_char1  ...  sus_sections  non_sus_sections  \\\n",
       "0             1         0         1  ...             1                 3   \n",
       "1             1         0         1  ...             1                 3   \n",
       "2             1         0         1  ...             1                 4   \n",
       "3             1         0         1  ...             0                 1   \n",
       "4             1         0         1  ...             1                 4   \n",
       "\n",
       "   packer  packer_type    E_text    E_data  filesize    E_file  fileinfo  \\\n",
       "0       0     NoPacker  6.603616  5.443362   1181520  6.627552         1   \n",
       "1       0     NoPacker  5.205926  2.123522      7680  5.318221         0   \n",
       "2       0     NoPacker  6.238000  3.380859     57872  6.507758         1   \n",
       "3       0     NoPacker  0.000000  0.000000     95616  4.575092         1   \n",
       "4       0     NoPacker  6.355626  0.702621     48128  5.545531         1   \n",
       "\n",
       "   class  \n",
       "0      0  \n",
       "1      0  \n",
       "2      0  \n",
       "3      0  \n",
       "4      0  \n",
       "\n",
       "[5 rows x 70 columns]"
      ]
     },
     "execution_count": 191,
     "metadata": {},
     "output_type": "execute_result"
    }
   ],
   "source": [
    "# Peak on dataset\n",
    "df.head()"
   ]
  },
  {
   "cell_type": "code",
   "execution_count": 192,
   "id": "f479e679",
   "metadata": {},
   "outputs": [],
   "source": [
    "# Droping these columns due to their insignificance\n",
    "df=df.drop(['NumberOfSections','CreationYear','e_cblp','e_cp','e_cparhdr','e_maxalloc'], axis=1)"
   ]
  },
  {
   "cell_type": "code",
   "execution_count": 193,
   "id": "bfbee834",
   "metadata": {},
   "outputs": [
    {
     "data": {
      "text/html": [
       "<div>\n",
       "<style scoped>\n",
       "    .dataframe tbody tr th:only-of-type {\n",
       "        vertical-align: middle;\n",
       "    }\n",
       "\n",
       "    .dataframe tbody tr th {\n",
       "        vertical-align: top;\n",
       "    }\n",
       "\n",
       "    .dataframe thead th {\n",
       "        text-align: right;\n",
       "    }\n",
       "</style>\n",
       "<table border=\"1\" class=\"dataframe\">\n",
       "  <thead>\n",
       "    <tr style=\"text-align: right;\">\n",
       "      <th></th>\n",
       "      <th>e_sp</th>\n",
       "      <th>e_lfanew</th>\n",
       "      <th>FH_char0</th>\n",
       "      <th>FH_char1</th>\n",
       "      <th>FH_char2</th>\n",
       "      <th>FH_char3</th>\n",
       "      <th>FH_char4</th>\n",
       "      <th>FH_char5</th>\n",
       "      <th>FH_char6</th>\n",
       "      <th>FH_char7</th>\n",
       "      <th>...</th>\n",
       "      <th>sus_sections</th>\n",
       "      <th>non_sus_sections</th>\n",
       "      <th>packer</th>\n",
       "      <th>packer_type</th>\n",
       "      <th>E_text</th>\n",
       "      <th>E_data</th>\n",
       "      <th>filesize</th>\n",
       "      <th>E_file</th>\n",
       "      <th>fileinfo</th>\n",
       "      <th>class</th>\n",
       "    </tr>\n",
       "  </thead>\n",
       "  <tbody>\n",
       "    <tr>\n",
       "      <th>0</th>\n",
       "      <td>184</td>\n",
       "      <td>256</td>\n",
       "      <td>0</td>\n",
       "      <td>1</td>\n",
       "      <td>0</td>\n",
       "      <td>0</td>\n",
       "      <td>0</td>\n",
       "      <td>0</td>\n",
       "      <td>0</td>\n",
       "      <td>1</td>\n",
       "      <td>...</td>\n",
       "      <td>1</td>\n",
       "      <td>3</td>\n",
       "      <td>0</td>\n",
       "      <td>NoPacker</td>\n",
       "      <td>6.603616</td>\n",
       "      <td>5.443362</td>\n",
       "      <td>1181520</td>\n",
       "      <td>6.627552</td>\n",
       "      <td>1</td>\n",
       "      <td>0</td>\n",
       "    </tr>\n",
       "    <tr>\n",
       "      <th>1</th>\n",
       "      <td>184</td>\n",
       "      <td>184</td>\n",
       "      <td>0</td>\n",
       "      <td>1</td>\n",
       "      <td>1</td>\n",
       "      <td>1</td>\n",
       "      <td>0</td>\n",
       "      <td>0</td>\n",
       "      <td>0</td>\n",
       "      <td>1</td>\n",
       "      <td>...</td>\n",
       "      <td>1</td>\n",
       "      <td>3</td>\n",
       "      <td>0</td>\n",
       "      <td>NoPacker</td>\n",
       "      <td>5.205926</td>\n",
       "      <td>2.123522</td>\n",
       "      <td>7680</td>\n",
       "      <td>5.318221</td>\n",
       "      <td>0</td>\n",
       "      <td>0</td>\n",
       "    </tr>\n",
       "    <tr>\n",
       "      <th>2</th>\n",
       "      <td>184</td>\n",
       "      <td>272</td>\n",
       "      <td>0</td>\n",
       "      <td>1</td>\n",
       "      <td>0</td>\n",
       "      <td>0</td>\n",
       "      <td>0</td>\n",
       "      <td>0</td>\n",
       "      <td>0</td>\n",
       "      <td>1</td>\n",
       "      <td>...</td>\n",
       "      <td>1</td>\n",
       "      <td>4</td>\n",
       "      <td>0</td>\n",
       "      <td>NoPacker</td>\n",
       "      <td>6.238000</td>\n",
       "      <td>3.380859</td>\n",
       "      <td>57872</td>\n",
       "      <td>6.507758</td>\n",
       "      <td>1</td>\n",
       "      <td>0</td>\n",
       "    </tr>\n",
       "    <tr>\n",
       "      <th>3</th>\n",
       "      <td>184</td>\n",
       "      <td>184</td>\n",
       "      <td>0</td>\n",
       "      <td>1</td>\n",
       "      <td>0</td>\n",
       "      <td>0</td>\n",
       "      <td>0</td>\n",
       "      <td>0</td>\n",
       "      <td>0</td>\n",
       "      <td>1</td>\n",
       "      <td>...</td>\n",
       "      <td>0</td>\n",
       "      <td>1</td>\n",
       "      <td>0</td>\n",
       "      <td>NoPacker</td>\n",
       "      <td>0.000000</td>\n",
       "      <td>0.000000</td>\n",
       "      <td>95616</td>\n",
       "      <td>4.575092</td>\n",
       "      <td>1</td>\n",
       "      <td>0</td>\n",
       "    </tr>\n",
       "    <tr>\n",
       "      <th>4</th>\n",
       "      <td>184</td>\n",
       "      <td>224</td>\n",
       "      <td>0</td>\n",
       "      <td>1</td>\n",
       "      <td>0</td>\n",
       "      <td>0</td>\n",
       "      <td>0</td>\n",
       "      <td>0</td>\n",
       "      <td>0</td>\n",
       "      <td>1</td>\n",
       "      <td>...</td>\n",
       "      <td>1</td>\n",
       "      <td>4</td>\n",
       "      <td>0</td>\n",
       "      <td>NoPacker</td>\n",
       "      <td>6.355626</td>\n",
       "      <td>0.702621</td>\n",
       "      <td>48128</td>\n",
       "      <td>5.545531</td>\n",
       "      <td>1</td>\n",
       "      <td>0</td>\n",
       "    </tr>\n",
       "  </tbody>\n",
       "</table>\n",
       "<p>5 rows × 64 columns</p>\n",
       "</div>"
      ],
      "text/plain": [
       "   e_sp  e_lfanew  FH_char0  FH_char1  FH_char2  FH_char3  FH_char4  FH_char5  \\\n",
       "0   184       256         0         1         0         0         0         0   \n",
       "1   184       184         0         1         1         1         0         0   \n",
       "2   184       272         0         1         0         0         0         0   \n",
       "3   184       184         0         1         0         0         0         0   \n",
       "4   184       224         0         1         0         0         0         0   \n",
       "\n",
       "   FH_char6  FH_char7  ...  sus_sections  non_sus_sections  packer  \\\n",
       "0         0         1  ...             1                 3       0   \n",
       "1         0         1  ...             1                 3       0   \n",
       "2         0         1  ...             1                 4       0   \n",
       "3         0         1  ...             0                 1       0   \n",
       "4         0         1  ...             1                 4       0   \n",
       "\n",
       "   packer_type    E_text    E_data  filesize    E_file  fileinfo  class  \n",
       "0     NoPacker  6.603616  5.443362   1181520  6.627552         1      0  \n",
       "1     NoPacker  5.205926  2.123522      7680  5.318221         0      0  \n",
       "2     NoPacker  6.238000  3.380859     57872  6.507758         1      0  \n",
       "3     NoPacker  0.000000  0.000000     95616  4.575092         1      0  \n",
       "4     NoPacker  6.355626  0.702621     48128  5.545531         1      0  \n",
       "\n",
       "[5 rows x 64 columns]"
      ]
     },
     "execution_count": 193,
     "metadata": {},
     "output_type": "execute_result"
    }
   ],
   "source": [
    "# Peak on the dataset\n",
    "df.head()"
   ]
  },
  {
   "cell_type": "code",
   "execution_count": 194,
   "id": "e613e569",
   "metadata": {},
   "outputs": [],
   "source": [
    "# Encodings Labels so that they are compatible with machine leanring classifiers\n",
    "from sklearn.preprocessing import LabelEncoder\n",
    "le = LabelEncoder()\n",
    "for i in df:\n",
    "    if df[i].dtype=='object':\n",
    "        df[i] = le.fit_transform(df[i])\n",
    "    else:\n",
    "        continue\n",
    "X = df.drop(['class'],axis=1)\n",
    "y = df['class']"
   ]
  },
  {
   "cell_type": "code",
   "execution_count": 195,
   "id": "05c2946a",
   "metadata": {},
   "outputs": [
    {
     "data": {
      "text/html": [
       "<div>\n",
       "<style scoped>\n",
       "    .dataframe tbody tr th:only-of-type {\n",
       "        vertical-align: middle;\n",
       "    }\n",
       "\n",
       "    .dataframe tbody tr th {\n",
       "        vertical-align: top;\n",
       "    }\n",
       "\n",
       "    .dataframe thead th {\n",
       "        text-align: right;\n",
       "    }\n",
       "</style>\n",
       "<table border=\"1\" class=\"dataframe\">\n",
       "  <thead>\n",
       "    <tr style=\"text-align: right;\">\n",
       "      <th></th>\n",
       "      <th>e_sp</th>\n",
       "      <th>e_lfanew</th>\n",
       "      <th>FH_char0</th>\n",
       "      <th>FH_char1</th>\n",
       "      <th>FH_char2</th>\n",
       "      <th>FH_char3</th>\n",
       "      <th>FH_char4</th>\n",
       "      <th>FH_char5</th>\n",
       "      <th>FH_char6</th>\n",
       "      <th>FH_char7</th>\n",
       "      <th>...</th>\n",
       "      <th>sus_sections</th>\n",
       "      <th>non_sus_sections</th>\n",
       "      <th>packer</th>\n",
       "      <th>packer_type</th>\n",
       "      <th>E_text</th>\n",
       "      <th>E_data</th>\n",
       "      <th>filesize</th>\n",
       "      <th>E_file</th>\n",
       "      <th>fileinfo</th>\n",
       "      <th>class</th>\n",
       "    </tr>\n",
       "  </thead>\n",
       "  <tbody>\n",
       "    <tr>\n",
       "      <th>0</th>\n",
       "      <td>184</td>\n",
       "      <td>256</td>\n",
       "      <td>0</td>\n",
       "      <td>1</td>\n",
       "      <td>0</td>\n",
       "      <td>0</td>\n",
       "      <td>0</td>\n",
       "      <td>0</td>\n",
       "      <td>0</td>\n",
       "      <td>1</td>\n",
       "      <td>...</td>\n",
       "      <td>1</td>\n",
       "      <td>3</td>\n",
       "      <td>0</td>\n",
       "      <td>18</td>\n",
       "      <td>6.603616</td>\n",
       "      <td>5.443362</td>\n",
       "      <td>1181520</td>\n",
       "      <td>6.627552</td>\n",
       "      <td>1</td>\n",
       "      <td>0</td>\n",
       "    </tr>\n",
       "    <tr>\n",
       "      <th>1</th>\n",
       "      <td>184</td>\n",
       "      <td>184</td>\n",
       "      <td>0</td>\n",
       "      <td>1</td>\n",
       "      <td>1</td>\n",
       "      <td>1</td>\n",
       "      <td>0</td>\n",
       "      <td>0</td>\n",
       "      <td>0</td>\n",
       "      <td>1</td>\n",
       "      <td>...</td>\n",
       "      <td>1</td>\n",
       "      <td>3</td>\n",
       "      <td>0</td>\n",
       "      <td>18</td>\n",
       "      <td>5.205926</td>\n",
       "      <td>2.123522</td>\n",
       "      <td>7680</td>\n",
       "      <td>5.318221</td>\n",
       "      <td>0</td>\n",
       "      <td>0</td>\n",
       "    </tr>\n",
       "    <tr>\n",
       "      <th>2</th>\n",
       "      <td>184</td>\n",
       "      <td>272</td>\n",
       "      <td>0</td>\n",
       "      <td>1</td>\n",
       "      <td>0</td>\n",
       "      <td>0</td>\n",
       "      <td>0</td>\n",
       "      <td>0</td>\n",
       "      <td>0</td>\n",
       "      <td>1</td>\n",
       "      <td>...</td>\n",
       "      <td>1</td>\n",
       "      <td>4</td>\n",
       "      <td>0</td>\n",
       "      <td>18</td>\n",
       "      <td>6.238000</td>\n",
       "      <td>3.380859</td>\n",
       "      <td>57872</td>\n",
       "      <td>6.507758</td>\n",
       "      <td>1</td>\n",
       "      <td>0</td>\n",
       "    </tr>\n",
       "    <tr>\n",
       "      <th>3</th>\n",
       "      <td>184</td>\n",
       "      <td>184</td>\n",
       "      <td>0</td>\n",
       "      <td>1</td>\n",
       "      <td>0</td>\n",
       "      <td>0</td>\n",
       "      <td>0</td>\n",
       "      <td>0</td>\n",
       "      <td>0</td>\n",
       "      <td>1</td>\n",
       "      <td>...</td>\n",
       "      <td>0</td>\n",
       "      <td>1</td>\n",
       "      <td>0</td>\n",
       "      <td>18</td>\n",
       "      <td>0.000000</td>\n",
       "      <td>0.000000</td>\n",
       "      <td>95616</td>\n",
       "      <td>4.575092</td>\n",
       "      <td>1</td>\n",
       "      <td>0</td>\n",
       "    </tr>\n",
       "    <tr>\n",
       "      <th>4</th>\n",
       "      <td>184</td>\n",
       "      <td>224</td>\n",
       "      <td>0</td>\n",
       "      <td>1</td>\n",
       "      <td>0</td>\n",
       "      <td>0</td>\n",
       "      <td>0</td>\n",
       "      <td>0</td>\n",
       "      <td>0</td>\n",
       "      <td>1</td>\n",
       "      <td>...</td>\n",
       "      <td>1</td>\n",
       "      <td>4</td>\n",
       "      <td>0</td>\n",
       "      <td>18</td>\n",
       "      <td>6.355626</td>\n",
       "      <td>0.702621</td>\n",
       "      <td>48128</td>\n",
       "      <td>5.545531</td>\n",
       "      <td>1</td>\n",
       "      <td>0</td>\n",
       "    </tr>\n",
       "  </tbody>\n",
       "</table>\n",
       "<p>5 rows × 64 columns</p>\n",
       "</div>"
      ],
      "text/plain": [
       "   e_sp  e_lfanew  FH_char0  FH_char1  FH_char2  FH_char3  FH_char4  FH_char5  \\\n",
       "0   184       256         0         1         0         0         0         0   \n",
       "1   184       184         0         1         1         1         0         0   \n",
       "2   184       272         0         1         0         0         0         0   \n",
       "3   184       184         0         1         0         0         0         0   \n",
       "4   184       224         0         1         0         0         0         0   \n",
       "\n",
       "   FH_char6  FH_char7  ...  sus_sections  non_sus_sections  packer  \\\n",
       "0         0         1  ...             1                 3       0   \n",
       "1         0         1  ...             1                 3       0   \n",
       "2         0         1  ...             1                 4       0   \n",
       "3         0         1  ...             0                 1       0   \n",
       "4         0         1  ...             1                 4       0   \n",
       "\n",
       "   packer_type    E_text    E_data  filesize    E_file  fileinfo  class  \n",
       "0           18  6.603616  5.443362   1181520  6.627552         1      0  \n",
       "1           18  5.205926  2.123522      7680  5.318221         0      0  \n",
       "2           18  6.238000  3.380859     57872  6.507758         1      0  \n",
       "3           18  0.000000  0.000000     95616  4.575092         1      0  \n",
       "4           18  6.355626  0.702621     48128  5.545531         1      0  \n",
       "\n",
       "[5 rows x 64 columns]"
      ]
     },
     "execution_count": 195,
     "metadata": {},
     "output_type": "execute_result"
    }
   ],
   "source": [
    "# Now check the features for the feature column \"Packer_type\". They are converted fr\n",
    "df.head()"
   ]
  },
  {
   "cell_type": "code",
   "execution_count": 196,
   "id": "37df265e",
   "metadata": {},
   "outputs": [],
   "source": [
    "# Dividing data into training, testing and validation\n",
    "from sklearn.model_selection import train_test_split\n",
    "X_train, X_test, y_train, y_test = train_test_split(X, y, test_size=0.6, random_state=1)\n",
    "X_train, X_val, y_train, y_val = train_test_split(X_train, y_train, test_size=0.05, random_state=1)"
   ]
  },
  {
   "cell_type": "code",
   "execution_count": 197,
   "id": "b40e13dd",
   "metadata": {},
   "outputs": [],
   "source": [
    "# Scaling data. Default scaling is to scale the data to unit variance (or equivalent\n",
    "from sklearn.preprocessing import StandardScaler\n",
    "sc = StandardScaler()\n",
    "X_train = sc.fit_transform(X_train)\n",
    "X_test = sc.transform(X_test)\n",
    "X_val = sc.transform(X_val)"
   ]
  },
  {
   "cell_type": "markdown",
   "id": "05078ab7",
   "metadata": {},
   "source": [
    "## KNN\n",
    "Testing with K = 7 "
   ]
  },
  {
   "cell_type": "code",
   "execution_count": 198,
   "id": "1d38ad52",
   "metadata": {},
   "outputs": [],
   "source": [
    "from sklearn.neighbors import KNeighborsClassifier\n",
    "#Create KNN Classifier (K Nearest neighbors)\n",
    "knn = KNeighborsClassifier(n_neighbors=7)\n",
    "#Train the model using the training sets\n",
    "knn.fit(X_train, y_train)\n",
    "#Predict the response for test dataset\n",
    "y_pred = knn.predict(X_test)"
   ]
  },
  {
   "cell_type": "code",
   "execution_count": 199,
   "id": "8e0b8f9d",
   "metadata": {},
   "outputs": [
    {
     "name": "stdout",
     "output_type": "stream",
     "text": [
      "Accuracy: 0.9606525911708254\n"
     ]
    }
   ],
   "source": [
    "# Model Accuracy, how often is the classifier correct for K=3\n",
    "from sklearn import metrics\n",
    "print(\"Accuracy:\",metrics.accuracy_score(y_test, y_pred))"
   ]
  },
  {
   "cell_type": "markdown",
   "id": "c1a17758",
   "metadata": {},
   "source": [
    "## KNN\n",
    "Testing with K = 5"
   ]
  },
  {
   "cell_type": "code",
   "execution_count": 200,
   "id": "b42fb019",
   "metadata": {},
   "outputs": [],
   "source": [
    "#Import knearest neighbors Classifier model\n",
    "from sklearn.neighbors import KNeighborsClassifier\n",
    "#Create KNN Classifier\n",
    "knn = KNeighborsClassifier(n_neighbors=5)\n",
    "#Train the model using the training sets\n",
    "knn.fit(X_train, y_train)\n",
    "#Predict the response for test dataset\n",
    "y_pred = knn.predict(X_test)"
   ]
  },
  {
   "cell_type": "code",
   "execution_count": 201,
   "id": "13837a8b",
   "metadata": {},
   "outputs": [
    {
     "name": "stdout",
     "output_type": "stream",
     "text": [
      "Test accuracy is:0.9616\n",
      "Precision: 0.9689 Recall: 0.9570\n"
     ]
    }
   ],
   "source": [
    "# Making the Confusion Matrix\n",
    "from sklearn.metrics import confusion_matrix\n",
    "cm = confusion_matrix(y_test, y_pred)\n",
    "tn=cm[0][0] #tn\n",
    "fn=cm[0][1] #fn\n",
    "fp=cm[1][0] #fp\n",
    "tp=cm[1][1] #tp\n",
    "acc= (tp+tn)/(tp+tn+fn+fp)\n",
    "epsilon = 1e-7 # is used so that to avoid divide by zero error\n",
    "precision = tp / (tp + fp + epsilon)\n",
    "recall = tp / (tp + fn + epsilon)\n",
    "sensitivity,specificity = tp/(tp+fn),tn/(tn+fp)\n",
    "print(\"Test accuracy is:\"+str(format(acc,'.4f')))\n",
    "print(\"Precision: \"+str(format(precision,'.4f'))+\" Recall: \"+str(format(recall,'.4f')))"
   ]
  },
  {
   "cell_type": "markdown",
   "id": "20266b87",
   "metadata": {},
   "source": [
    "## SVM"
   ]
  },
  {
   "cell_type": "code",
   "execution_count": 202,
   "id": "5dabf2c3",
   "metadata": {},
   "outputs": [],
   "source": [
    "from sklearn import svm\n",
    "from sklearn.svm import SVC\n",
    "svc = SVC(kernel='linear')\n",
    "svc.fit(X_train, y_train)\n",
    "y_pred = svc.predict(X_test)"
   ]
  },
  {
   "cell_type": "code",
   "execution_count": 203,
   "id": "d171ebec",
   "metadata": {},
   "outputs": [
    {
     "name": "stdout",
     "output_type": "stream",
     "text": [
      "Test accuracy is:0.9626\n",
      "Precision: 0.9627 Recall: 0.9645\n"
     ]
    }
   ],
   "source": [
    "# Making the Confusion Matrix\n",
    "from sklearn.metrics import confusion_matrix\n",
    "cm = confusion_matrix(y_test, y_pred)\n",
    "tn=cm[0][0] #tn\n",
    "fn=cm[0][1] #fn\n",
    "fp=cm[1][0] #fp\n",
    "tp=cm[1][1] #tp\n",
    "acc= (tp+tn)/(tp+tn+fn+fp)\n",
    "epsilon = 1e-7 # is used so that to avoid divide by zero error\n",
    "precision = tp / (tp + fp + epsilon)\n",
    "recall = tp / (tp + fn + epsilon)\n",
    "sensitivity,specificity = tp/(tp+fn),tn/(tn+fp)\n",
    "print(\"Test accuracy is:\"+str(format(acc,'.4f')))\n",
    "print(\"Precision: \"+str(format(precision,'.4f'))+\" Recall: \"+str(format(recall,'.4f')))"
   ]
  },
  {
   "cell_type": "code",
   "execution_count": 204,
   "id": "d8e26d47",
   "metadata": {},
   "outputs": [],
   "source": [
    "from sklearn import svm\n",
    "from sklearn.svm import SVC\n",
    "svc = SVC(kernel='rbf')\n",
    "svc.fit(X_train, y_train)\n",
    "y_pred = svc.predict(X_test)"
   ]
  },
  {
   "cell_type": "code",
   "execution_count": 205,
   "id": "6e7f8e76",
   "metadata": {},
   "outputs": [
    {
     "name": "stdout",
     "output_type": "stream",
     "text": [
      "Test accuracy is:0.9578\n",
      "Precision: 0.9608 Recall: 0.9573\n"
     ]
    }
   ],
   "source": [
    "# Making the Confusion Matrix\n",
    "from sklearn.metrics import confusion_matrix\n",
    "cm = confusion_matrix(y_test, y_pred)\n",
    "tn=cm[0][0] #tn\n",
    "fn=cm[0][1] #fn\n",
    "fp=cm[1][0] #fp\n",
    "tp=cm[1][1] #tp\n",
    "acc= (tp+tn)/(tp+tn+fn+fp)\n",
    "epsilon = 1e-7 # is used so that to avoid divide by zero error\n",
    "precision = tp / (tp + fp + epsilon)\n",
    "recall = tp / (tp + fn + epsilon)\n",
    "sensitivity,specificity = tp/(tp+fn),tn/(tn+fp)\n",
    "print(\"Test accuracy is:\"+str(format(acc,'.4f')))\n",
    "print(\"Precision: \"+str(format(precision,'.4f'))+\" Recall: \"+str(format(recall,'.4f')))"
   ]
  },
  {
   "cell_type": "code",
   "execution_count": 206,
   "id": "593700c7",
   "metadata": {},
   "outputs": [],
   "source": [
    "from sklearn import svm\n",
    "from sklearn.svm import SVC\n",
    "svc = SVC(kernel='poly', degree=5)\n",
    "svc.fit(X_train, y_train)\n",
    "y_pred = svc.predict(X_test)"
   ]
  },
  {
   "cell_type": "code",
   "execution_count": 207,
   "id": "4a509f86",
   "metadata": {},
   "outputs": [
    {
     "name": "stdout",
     "output_type": "stream",
     "text": [
      "Test accuracy is:0.7732\n",
      "Precision: 0.9888 Recall: 0.6972\n"
     ]
    }
   ],
   "source": [
    "# Making the Confusion Matrix\n",
    "from sklearn.metrics import confusion_matrix\n",
    "cm = confusion_matrix(y_test, y_pred)\n",
    "tn=cm[0][0] #tn\n",
    "fn=cm[0][1] #fn\n",
    "fp=cm[1][0] #fp\n",
    "tp=cm[1][1] #tp\n",
    "acc= (tp+tn)/(tp+tn+fn+fp)\n",
    "epsilon = 1e-7 # is used so that to avoid divide by zero error\n",
    "precision = tp / (tp + fp + epsilon)\n",
    "recall = tp / (tp + fn + epsilon)\n",
    "sensitivity,specificity = tp/(tp+fn),tn/(tn+fp)\n",
    "print(\"Test accuracy is:\"+str(format(acc,'.4f')))\n",
    "print(\"Precision: \"+str(format(precision,'.4f'))+\" Recall: \"+str(format(recall,'.4f')))"
   ]
  },
  {
   "cell_type": "markdown",
   "id": "1852c336",
   "metadata": {},
   "source": [
    "## Random Forest"
   ]
  },
  {
   "cell_type": "code",
   "execution_count": 208,
   "id": "2ffc1887",
   "metadata": {},
   "outputs": [],
   "source": [
    "from sklearn.ensemble import RandomForestClassifier\n",
    "# creating a RF classifier\n",
    "tree = RandomForestClassifier(n_estimators = 100)\n",
    "tree.fit(X_train, y_train)\n",
    "y_pred = tree.predict(X_test)"
   ]
  },
  {
   "cell_type": "code",
   "execution_count": 209,
   "id": "253abc11",
   "metadata": {},
   "outputs": [
    {
     "name": "stdout",
     "output_type": "stream",
     "text": [
      "Test accuracy is:0.9885\n",
      "Precision: 0.9913 Recall: 0.9864\n"
     ]
    }
   ],
   "source": [
    "# Making the Confusion Matrix\n",
    "from sklearn.metrics import confusion_matrix\n",
    "cm = confusion_matrix(y_test, y_pred)\n",
    "tn=cm[0][0] #tn\n",
    "fn=cm[0][1] #fn\n",
    "fp=cm[1][0] #fp\n",
    "tp=cm[1][1] #tp\n",
    "acc= (tp+tn)/(tp+tn+fn+fp)\n",
    "epsilon = 1e-7 # is used so that to avoid divide by zero error\n",
    "precision = tp / (tp + fp + epsilon)\n",
    "recall = tp / (tp + fn + epsilon)\n",
    "sensitivity,specificity = tp/(tp+fn),tn/(tn+fp)\n",
    "print(\"Test accuracy is:\"+str(format(acc,'.4f')))\n",
    "print(\"Precision: \"+str(format(precision,'.4f'))+\" Recall: \"+str(format(recall,'.4f')))"
   ]
  },
  {
   "cell_type": "markdown",
   "id": "7ab1beb4",
   "metadata": {},
   "source": [
    "## Naive Bayes"
   ]
  },
  {
   "cell_type": "code",
   "execution_count": 210,
   "id": "e5ed3a4a",
   "metadata": {},
   "outputs": [],
   "source": [
    "from sklearn.naive_bayes import GaussianNB\n",
    "nb = GaussianNB()\n",
    "nb.fit(X_train, y_train)\n",
    "y_pred=nb.predict(X_test)"
   ]
  },
  {
   "cell_type": "code",
   "execution_count": 211,
   "id": "9be9c380",
   "metadata": {
    "scrolled": true
   },
   "outputs": [
    {
     "name": "stdout",
     "output_type": "stream",
     "text": [
      "Test accuracy is:0.7569\n",
      "Precision: 0.5488 Recall: 0.9629\n"
     ]
    }
   ],
   "source": [
    "# Making the Confusion Matrix\n",
    "from sklearn.metrics import confusion_matrix\n",
    "cm = confusion_matrix(y_test, y_pred)\n",
    "tn=cm[0][0] #tn\n",
    "fn=cm[0][1] #fn\n",
    "fp=cm[1][0] #fp\n",
    "tp=cm[1][1] #tp\n",
    "acc= (tp+tn)/(tp+tn+fn+fp)\n",
    "epsilon = 1e-7 # is used so that to avoid divide by zero error\n",
    "precision = tp / (tp + fp + epsilon)\n",
    "recall = tp / (tp + fn + epsilon)\n",
    "sensitivity,specificity = tp/(tp+fn),tn/(tn+fp)\n",
    "print(\"Test accuracy is:\"+str(format(acc,'.4f')))\n",
    "print(\"Precision: \"+str(format(precision,'.4f'))+\" Recall: \"+str(format(recall,'.4f')))"
   ]
  },
  {
   "cell_type": "markdown",
   "id": "58ceac5e",
   "metadata": {},
   "source": [
    "## XG Boost"
   ]
  },
  {
   "cell_type": "code",
   "execution_count": 212,
   "id": "2f6b1e1d",
   "metadata": {
    "scrolled": true
   },
   "outputs": [
    {
     "name": "stderr",
     "output_type": "stream",
     "text": [
      "/home/ahsen/.local/lib/python3.8/site-packages/xgboost/sklearn.py:1146: UserWarning: The use of label encoder in XGBClassifier is deprecated and will be removed in a future release. To remove this warning, do the following: 1) Pass option use_label_encoder=False when constructing XGBClassifier object; and 2) Encode your labels (y) as integers starting with 0, i.e. 0, 1, 2, ..., [num_class - 1].\n",
      "  warnings.warn(label_encoder_deprecation_msg, UserWarning)\n"
     ]
    }
   ],
   "source": [
    "from xgboost import XGBClassifier\n",
    "model = XGBClassifier(eval_metric = \"error\")\n",
    "model.fit(X_train, y_train)\n",
    "y_pred = model.predict(X_test)"
   ]
  },
  {
   "cell_type": "code",
   "execution_count": 213,
   "id": "b4950d5b",
   "metadata": {},
   "outputs": [
    {
     "name": "stdout",
     "output_type": "stream",
     "text": [
      "Test accuracy is:0.9859\n",
      "Precision: 0.9851 Recall: 0.9875\n"
     ]
    }
   ],
   "source": [
    "# Making the Confusion Matrix\n",
    "from sklearn.metrics import confusion_matrix\n",
    "cm = confusion_matrix(y_test, y_pred)\n",
    "tn=cm[0][0] #tn\n",
    "fn=cm[0][1] #fn\n",
    "fp=cm[1][0] #fp\n",
    "tp=cm[1][1] #tp\n",
    "acc= (tp+tn)/(tp+tn+fn+fp)\n",
    "epsilon = 1e-7 # is used so that to avoid divide by zero error\n",
    "precision = tp / (tp + fp + epsilon)\n",
    "recall = tp / (tp + fn + epsilon)\n",
    "sensitivity,specificity = tp/(tp+fn),tn/(tn+fp)\n",
    "print(\"Test accuracy is:\"+str(format(acc,'.4f')))\n",
    "print(\"Precision: \"+str(format(precision,'.4f'))+\" Recall: \"+str(format(recall,'.4f')))"
   ]
  },
  {
   "cell_type": "markdown",
   "id": "08b80411",
   "metadata": {},
   "source": [
    "## MLP"
   ]
  },
  {
   "cell_type": "code",
   "execution_count": 214,
   "id": "d35db002",
   "metadata": {},
   "outputs": [],
   "source": [
    "from sklearn.neural_network import MLPClassifier"
   ]
  },
  {
   "cell_type": "code",
   "execution_count": 229,
   "id": "0b12dacf",
   "metadata": {},
   "outputs": [],
   "source": [
    "#LBFGS is the optimizer, which works relatively better when applied on \n",
    "#smaller datasets because it's a local search algorithm\n",
    "clf = MLPClassifier(solver='adam', alpha=1e-5,\n",
    "                    hidden_layer_sizes=(2,2), random_state=1, max_iter = 600)"
   ]
  },
  {
   "cell_type": "code",
   "execution_count": 230,
   "id": "037cd9be",
   "metadata": {},
   "outputs": [
    {
     "data": {
      "text/plain": [
       "MLPClassifier(alpha=1e-05, hidden_layer_sizes=(2, 2), max_iter=600,\n",
       "              random_state=1)"
      ]
     },
     "execution_count": 230,
     "metadata": {},
     "output_type": "execute_result"
    }
   ],
   "source": [
    "clf.fit(X_train, y_train)"
   ]
  },
  {
   "cell_type": "code",
   "execution_count": 231,
   "id": "f0cd9aba",
   "metadata": {},
   "outputs": [],
   "source": [
    "y_pred = clf.predict(X_test)"
   ]
  },
  {
   "cell_type": "code",
   "execution_count": 232,
   "id": "5d13b7aa",
   "metadata": {},
   "outputs": [
    {
     "name": "stdout",
     "output_type": "stream",
     "text": [
      "Test accuracy is:0.9661\n",
      "Precision: 0.9577 Recall: 0.9759\n"
     ]
    }
   ],
   "source": [
    "from sklearn.metrics import confusion_matrix\n",
    "cm = confusion_matrix(y_test, y_pred)\n",
    "tn=cm[0][0] #tn\n",
    "fn=cm[0][1] #fn\n",
    "fp=cm[1][0] #fp\n",
    "tp=cm[1][1] #tp\n",
    "acc= (tp+tn)/(tp+tn+fn+fp)\n",
    "epsilon = 1e-7 # is used so that to avoid divide by zero error\n",
    "precision = tp / (tp + fp + epsilon)\n",
    "recall = tp / (tp + fn + epsilon)\n",
    "sensitivity,specificity = tp/(tp+fn),tn/(tn+fp)\n",
    "print(\"Test accuracy is:\"+str(format(acc,'.4f')))\n",
    "print(\"Precision: \"+str(format(precision,'.4f'))+\" Recall: \"+str(format(recall,'.4f')))"
   ]
  },
  {
   "cell_type": "code",
   "execution_count": 233,
   "id": "0c8d33da",
   "metadata": {},
   "outputs": [],
   "source": [
    "scores = cross_val_score(clf, X_train, y_train, cv=5)"
   ]
  },
  {
   "cell_type": "code",
   "execution_count": 236,
   "id": "620ee351",
   "metadata": {},
   "outputs": [
    {
     "data": {
      "text/plain": [
       "0.9590653369134381"
      ]
     },
     "execution_count": 236,
     "metadata": {},
     "output_type": "execute_result"
    }
   ],
   "source": [
    "scores.mean()"
   ]
  },
  {
   "cell_type": "code",
   "execution_count": 222,
   "id": "d75f8d3a",
   "metadata": {
    "scrolled": true
   },
   "outputs": [
    {
     "data": {
      "image/png": "[encoded data removed]",
      "text/plain": [
       "<Figure size 432x288 with 1 Axes>"
      ]
     },
     "metadata": {
      "needs_background": "light"
     },
     "output_type": "display_data"
    },
    {
     "name": "stdout",
     "output_type": "stream",
     "text": [
      "[1.         0.95835923 0.        ]\n"
     ]
    }
   ],
   "source": [
    "from sklearn.metrics import auc\n",
    "lr_precision, lr_recall, _ = precision_recall_curve(y_test, y_pred)\n",
    "lr_f1, lr_auc = f1_score(y_test, y_pred), auc(lr_recall, lr_precision)\n",
    "no_skill = len(y_test[y_test==1]) / len(y_test)\n",
    "pyplot.plot([0, 1], [no_skill, no_skill], linestyle='--', label='No Skill')\n",
    "pyplot.plot(lr_recall, lr_precision, marker='.', label='Logistic')\n",
    "# axis labels\n",
    "pyplot.xlabel('Recall')\n",
    "pyplot.ylabel('Precision')\n",
    "# show the legend\n",
    "pyplot.legend()\n",
    "# show the plot\n",
    "pyplot.show()\n",
    "print(lr_recall)"
   ]
  },
  {
   "cell_type": "code",
   "execution_count": 220,
   "id": "d06dda69",
   "metadata": {
    "scrolled": true
   },
   "outputs": [
    {
     "data": {
      "text/plain": [
       "<sklearn.metrics._plot.confusion_matrix.ConfusionMatrixDisplay at 0x7f5e45a2b130>"
      ]
     },
     "execution_count": 220,
     "metadata": {},
     "output_type": "execute_result"
    },
    {
     "data": {
      "image/png": "[encoded data removed]",
      "text/plain": [
       "<Figure size 432x288 with 2 Axes>"
      ]
     },
     "metadata": {
      "needs_background": "light"
     },
     "output_type": "display_data"
    }
   ],
   "source": [
    "plot_confusion_matrix(clf, X_test, y_test)"
   ]
  },
  {
   "cell_type": "code",
   "execution_count": 221,
   "id": "eaf2e482",
   "metadata": {},
   "outputs": [
    {
     "data": {
      "text/plain": [
       "(3126, 63)"
      ]
     },
     "execution_count": 221,
     "metadata": {},
     "output_type": "execute_result"
    }
   ],
   "source": [
    "X_test.shape"
   ]
  },
  {
   "cell_type": "code",
   "execution_count": null,
   "id": "2cf3262e",
   "metadata": {},
   "outputs": [],
   "source": []
  }
 ],
 "metadata": {
  "kernelspec": {
   "display_name": "Python 3 (ipykernel)",
   "language": "python",
   "name": "python3"
  },
  "language_info": {
   "codemirror_mode": {
    "name": "ipython",
    "version": 3
   },
   "file_extension": ".py",
   "mimetype": "text/x-python",
   "name": "python",
   "nbconvert_exporter": "python",
   "pygments_lexer": "ipython3",
   "version": "3.8.10"
  }
 },
 "nbformat": 4,
 "nbformat_minor": 5
}
